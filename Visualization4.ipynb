{
  "nbformat": 4,
  "nbformat_minor": 0,
  "metadata": {
    "colab": {
      "provenance": [],
      "authorship_tag": "ABX9TyOKoVn15zs/I5JCjOctwZDT",
      "include_colab_link": true
    },
    "kernelspec": {
      "name": "python3",
      "display_name": "Python 3"
    },
    "language_info": {
      "name": "python"
    }
  },
  "cells": [
    {
      "cell_type": "markdown",
      "metadata": {
        "id": "view-in-github",
        "colab_type": "text"
      },
      "source": [
        "<a href=\"https://colab.research.google.com/github/slothengineer/Pandas-Numpy-Visualization/blob/main/Visualization4.ipynb\" target=\"_parent\"><img src=\"https://colab.research.google.com/assets/colab-badge.svg\" alt=\"Open In Colab\"/></a>"
      ]
    },
    {
      "cell_type": "markdown",
      "source": [
        "# VISUALIZATION - Bokeh"
      ],
      "metadata": {
        "id": "jLz6p2oeUAtc"
      }
    },
    {
      "cell_type": "markdown",
      "source": [
        "### 1. How can you create a Bokeh plot using Python code?"
      ],
      "metadata": {
        "id": "qfRIWWo-UNiF"
      }
    },
    {
      "cell_type": "code",
      "source": [
        "from bokeh.plotting import figure, output_notebook, show\n",
        "from bokeh.models import ColumnDataSource\n",
        "\n",
        "x = [1, 2, 3, 4, 5]\n",
        "y = [6, 7, 2, 4, 8]\n",
        "colors = [\"red\", \"green\", \"blue\", \"orange\", \"purple\"]\n",
        "\n",
        "# Create a ColumnDataSource\n",
        "source = ColumnDataSource(data=dict(x=x, y=y, color=colors))\n",
        "\n",
        "# Enable notebook output\n",
        "output_notebook()\n",
        "\n",
        "# Create a Bokeh figure\n",
        "plot = figure(title=\"Scatter Plot\", tools=\"pan,box_zoom,reset\", width=400, height=400)\n",
        "\n",
        "# Add a scatter plot\n",
        "plot.scatter('x', 'y', size=10, color='color', source=source)\n",
        "\n",
        "# Set axis labels\n",
        "plot.xaxis.axis_label = \"X-axis\"\n",
        "plot.yaxis.axis_label = \"Y-axis\"\n",
        "\n",
        "# Show the plot\n",
        "show(plot)"
      ],
      "metadata": {
        "colab": {
          "base_uri": "https://localhost:8080/",
          "height": 417
        },
        "id": "udLY1q-uUa42",
        "outputId": "7dcfa7ae-d83b-4895-a041-8b2c25b84263"
      },
      "execution_count": 9,
      "outputs": [
        {
          "output_type": "display_data",
          "data": {
            "application/javascript": [
              "(function(root) {\n",
              "  function now() {\n",
              "    return new Date();\n",
              "  }\n",
              "\n",
              "  const force = true;\n",
              "\n",
              "  if (typeof root._bokeh_onload_callbacks === \"undefined\" || force === true) {\n",
              "    root._bokeh_onload_callbacks = [];\n",
              "    root._bokeh_is_loading = undefined;\n",
              "  }\n",
              "\n",
              "const JS_MIME_TYPE = 'application/javascript';\n",
              "  const HTML_MIME_TYPE = 'text/html';\n",
              "  const EXEC_MIME_TYPE = 'application/vnd.bokehjs_exec.v0+json';\n",
              "  const CLASS_NAME = 'output_bokeh rendered_html';\n",
              "\n",
              "  /**\n",
              "   * Render data to the DOM node\n",
              "   */\n",
              "  function render(props, node) {\n",
              "    const script = document.createElement(\"script\");\n",
              "    node.appendChild(script);\n",
              "  }\n",
              "\n",
              "  /**\n",
              "   * Handle when an output is cleared or removed\n",
              "   */\n",
              "  function handleClearOutput(event, handle) {\n",
              "    function drop(id) {\n",
              "      const view = Bokeh.index.get_by_id(id)\n",
              "      if (view != null) {\n",
              "        view.model.document.clear()\n",
              "        Bokeh.index.delete(view)\n",
              "      }\n",
              "    }\n",
              "\n",
              "    const cell = handle.cell;\n",
              "\n",
              "    const id = cell.output_area._bokeh_element_id;\n",
              "    const server_id = cell.output_area._bokeh_server_id;\n",
              "\n",
              "    // Clean up Bokeh references\n",
              "    if (id != null) {\n",
              "      drop(id)\n",
              "    }\n",
              "\n",
              "    if (server_id !== undefined) {\n",
              "      // Clean up Bokeh references\n",
              "      const cmd_clean = \"from bokeh.io.state import curstate; print(curstate().uuid_to_server['\" + server_id + \"'].get_sessions()[0].document.roots[0]._id)\";\n",
              "      cell.notebook.kernel.execute(cmd_clean, {\n",
              "        iopub: {\n",
              "          output: function(msg) {\n",
              "            const id = msg.content.text.trim()\n",
              "            drop(id)\n",
              "          }\n",
              "        }\n",
              "      });\n",
              "      // Destroy server and session\n",
              "      const cmd_destroy = \"import bokeh.io.notebook as ion; ion.destroy_server('\" + server_id + \"')\";\n",
              "      cell.notebook.kernel.execute(cmd_destroy);\n",
              "    }\n",
              "  }\n",
              "\n",
              "  /**\n",
              "   * Handle when a new output is added\n",
              "   */\n",
              "  function handleAddOutput(event, handle) {\n",
              "    const output_area = handle.output_area;\n",
              "    const output = handle.output;\n",
              "\n",
              "    // limit handleAddOutput to display_data with EXEC_MIME_TYPE content only\n",
              "    if ((output.output_type != \"display_data\") || (!Object.prototype.hasOwnProperty.call(output.data, EXEC_MIME_TYPE))) {\n",
              "      return\n",
              "    }\n",
              "\n",
              "    const toinsert = output_area.element.find(\".\" + CLASS_NAME.split(' ')[0]);\n",
              "\n",
              "    if (output.metadata[EXEC_MIME_TYPE][\"id\"] !== undefined) {\n",
              "      toinsert[toinsert.length - 1].firstChild.textContent = output.data[JS_MIME_TYPE];\n",
              "      // store reference to embed id on output_area\n",
              "      output_area._bokeh_element_id = output.metadata[EXEC_MIME_TYPE][\"id\"];\n",
              "    }\n",
              "    if (output.metadata[EXEC_MIME_TYPE][\"server_id\"] !== undefined) {\n",
              "      const bk_div = document.createElement(\"div\");\n",
              "      bk_div.innerHTML = output.data[HTML_MIME_TYPE];\n",
              "      const script_attrs = bk_div.children[0].attributes;\n",
              "      for (let i = 0; i < script_attrs.length; i++) {\n",
              "        toinsert[toinsert.length - 1].firstChild.setAttribute(script_attrs[i].name, script_attrs[i].value);\n",
              "        toinsert[toinsert.length - 1].firstChild.textContent = bk_div.children[0].textContent\n",
              "      }\n",
              "      // store reference to server id on output_area\n",
              "      output_area._bokeh_server_id = output.metadata[EXEC_MIME_TYPE][\"server_id\"];\n",
              "    }\n",
              "  }\n",
              "\n",
              "  function register_renderer(events, OutputArea) {\n",
              "\n",
              "    function append_mime(data, metadata, element) {\n",
              "      // create a DOM node to render to\n",
              "      const toinsert = this.create_output_subarea(\n",
              "        metadata,\n",
              "        CLASS_NAME,\n",
              "        EXEC_MIME_TYPE\n",
              "      );\n",
              "      this.keyboard_manager.register_events(toinsert);\n",
              "      // Render to node\n",
              "      const props = {data: data, metadata: metadata[EXEC_MIME_TYPE]};\n",
              "      render(props, toinsert[toinsert.length - 1]);\n",
              "      element.append(toinsert);\n",
              "      return toinsert\n",
              "    }\n",
              "\n",
              "    /* Handle when an output is cleared or removed */\n",
              "    events.on('clear_output.CodeCell', handleClearOutput);\n",
              "    events.on('delete.Cell', handleClearOutput);\n",
              "\n",
              "    /* Handle when a new output is added */\n",
              "    events.on('output_added.OutputArea', handleAddOutput);\n",
              "\n",
              "    /**\n",
              "     * Register the mime type and append_mime function with output_area\n",
              "     */\n",
              "    OutputArea.prototype.register_mime_type(EXEC_MIME_TYPE, append_mime, {\n",
              "      /* Is output safe? */\n",
              "      safe: true,\n",
              "      /* Index of renderer in `output_area.display_order` */\n",
              "      index: 0\n",
              "    });\n",
              "  }\n",
              "\n",
              "  // register the mime type if in Jupyter Notebook environment and previously unregistered\n",
              "  if (root.Jupyter !== undefined) {\n",
              "    const events = require('base/js/events');\n",
              "    const OutputArea = require('notebook/js/outputarea').OutputArea;\n",
              "\n",
              "    if (OutputArea.prototype.mime_types().indexOf(EXEC_MIME_TYPE) == -1) {\n",
              "      register_renderer(events, OutputArea);\n",
              "    }\n",
              "  }\n",
              "  if (typeof (root._bokeh_timeout) === \"undefined\" || force === true) {\n",
              "    root._bokeh_timeout = Date.now() + 5000;\n",
              "    root._bokeh_failed_load = false;\n",
              "  }\n",
              "\n",
              "  const NB_LOAD_WARNING = {'data': {'text/html':\n",
              "     \"<div style='background-color: #fdd'>\\n\"+\n",
              "     \"<p>\\n\"+\n",
              "     \"BokehJS does not appear to have successfully loaded. If loading BokehJS from CDN, this \\n\"+\n",
              "     \"may be due to a slow or bad network connection. Possible fixes:\\n\"+\n",
              "     \"</p>\\n\"+\n",
              "     \"<ul>\\n\"+\n",
              "     \"<li>re-rerun `output_notebook()` to attempt to load from CDN again, or</li>\\n\"+\n",
              "     \"<li>use INLINE resources instead, as so:</li>\\n\"+\n",
              "     \"</ul>\\n\"+\n",
              "     \"<code>\\n\"+\n",
              "     \"from bokeh.resources import INLINE\\n\"+\n",
              "     \"output_notebook(resources=INLINE)\\n\"+\n",
              "     \"</code>\\n\"+\n",
              "     \"</div>\"}};\n",
              "\n",
              "  function display_loaded() {\n",
              "    const el = document.getElementById(null);\n",
              "    if (el != null) {\n",
              "      el.textContent = \"BokehJS is loading...\";\n",
              "    }\n",
              "    if (root.Bokeh !== undefined) {\n",
              "      if (el != null) {\n",
              "        el.textContent = \"BokehJS \" + root.Bokeh.version + \" successfully loaded.\";\n",
              "      }\n",
              "    } else if (Date.now() < root._bokeh_timeout) {\n",
              "      setTimeout(display_loaded, 100)\n",
              "    }\n",
              "  }\n",
              "\n",
              "  function run_callbacks() {\n",
              "    try {\n",
              "      root._bokeh_onload_callbacks.forEach(function(callback) {\n",
              "        if (callback != null)\n",
              "          callback();\n",
              "      });\n",
              "    } finally {\n",
              "      delete root._bokeh_onload_callbacks\n",
              "    }\n",
              "    console.debug(\"Bokeh: all callbacks have finished\");\n",
              "  }\n",
              "\n",
              "  function load_libs(css_urls, js_urls, callback) {\n",
              "    if (css_urls == null) css_urls = [];\n",
              "    if (js_urls == null) js_urls = [];\n",
              "\n",
              "    root._bokeh_onload_callbacks.push(callback);\n",
              "    if (root._bokeh_is_loading > 0) {\n",
              "      console.debug(\"Bokeh: BokehJS is being loaded, scheduling callback at\", now());\n",
              "      return null;\n",
              "    }\n",
              "    if (js_urls == null || js_urls.length === 0) {\n",
              "      run_callbacks();\n",
              "      return null;\n",
              "    }\n",
              "    console.debug(\"Bokeh: BokehJS not loaded, scheduling load and callback at\", now());\n",
              "    root._bokeh_is_loading = css_urls.length + js_urls.length;\n",
              "\n",
              "    function on_load() {\n",
              "      root._bokeh_is_loading--;\n",
              "      if (root._bokeh_is_loading === 0) {\n",
              "        console.debug(\"Bokeh: all BokehJS libraries/stylesheets loaded\");\n",
              "        run_callbacks()\n",
              "      }\n",
              "    }\n",
              "\n",
              "    function on_error(url) {\n",
              "      console.error(\"failed to load \" + url);\n",
              "    }\n",
              "\n",
              "    for (let i = 0; i < css_urls.length; i++) {\n",
              "      const url = css_urls[i];\n",
              "      const element = document.createElement(\"link\");\n",
              "      element.onload = on_load;\n",
              "      element.onerror = on_error.bind(null, url);\n",
              "      element.rel = \"stylesheet\";\n",
              "      element.type = \"text/css\";\n",
              "      element.href = url;\n",
              "      console.debug(\"Bokeh: injecting link tag for BokehJS stylesheet: \", url);\n",
              "      document.body.appendChild(element);\n",
              "    }\n",
              "\n",
              "    for (let i = 0; i < js_urls.length; i++) {\n",
              "      const url = js_urls[i];\n",
              "      const element = document.createElement('script');\n",
              "      element.onload = on_load;\n",
              "      element.onerror = on_error.bind(null, url);\n",
              "      element.async = false;\n",
              "      element.src = url;\n",
              "      console.debug(\"Bokeh: injecting script tag for BokehJS library: \", url);\n",
              "      document.head.appendChild(element);\n",
              "    }\n",
              "  };\n",
              "\n",
              "  function inject_raw_css(css) {\n",
              "    const element = document.createElement(\"style\");\n",
              "    element.appendChild(document.createTextNode(css));\n",
              "    document.body.appendChild(element);\n",
              "  }\n",
              "\n",
              "  const js_urls = [\"https://cdn.bokeh.org/bokeh/release/bokeh-3.3.1.min.js\", \"https://cdn.bokeh.org/bokeh/release/bokeh-gl-3.3.1.min.js\", \"https://cdn.bokeh.org/bokeh/release/bokeh-widgets-3.3.1.min.js\", \"https://cdn.bokeh.org/bokeh/release/bokeh-tables-3.3.1.min.js\", \"https://cdn.bokeh.org/bokeh/release/bokeh-mathjax-3.3.1.min.js\"];\n",
              "  const css_urls = [];\n",
              "\n",
              "  const inline_js = [    function(Bokeh) {\n",
              "      Bokeh.set_log_level(\"info\");\n",
              "    },\n",
              "function(Bokeh) {\n",
              "    }\n",
              "  ];\n",
              "\n",
              "  function run_inline_js() {\n",
              "    if (root.Bokeh !== undefined || force === true) {\n",
              "          for (let i = 0; i < inline_js.length; i++) {\n",
              "      inline_js[i].call(root, root.Bokeh);\n",
              "    }\n",
              "} else if (Date.now() < root._bokeh_timeout) {\n",
              "      setTimeout(run_inline_js, 100);\n",
              "    } else if (!root._bokeh_failed_load) {\n",
              "      console.log(\"Bokeh: BokehJS failed to load within specified timeout.\");\n",
              "      root._bokeh_failed_load = true;\n",
              "    } else if (force !== true) {\n",
              "      const cell = $(document.getElementById(null)).parents('.cell').data().cell;\n",
              "      cell.output_area.append_execute_result(NB_LOAD_WARNING)\n",
              "    }\n",
              "  }\n",
              "\n",
              "  if (root._bokeh_is_loading === 0) {\n",
              "    console.debug(\"Bokeh: BokehJS loaded, going straight to plotting\");\n",
              "    run_inline_js();\n",
              "  } else {\n",
              "    load_libs(css_urls, js_urls, function() {\n",
              "      console.debug(\"Bokeh: BokehJS plotting callback run at\", now());\n",
              "      run_inline_js();\n",
              "    });\n",
              "  }\n",
              "}(window));"
            ],
            "application/vnd.bokehjs_load.v0+json": "(function(root) {\n  function now() {\n    return new Date();\n  }\n\n  const force = true;\n\n  if (typeof root._bokeh_onload_callbacks === \"undefined\" || force === true) {\n    root._bokeh_onload_callbacks = [];\n    root._bokeh_is_loading = undefined;\n  }\n\n\n  if (typeof (root._bokeh_timeout) === \"undefined\" || force === true) {\n    root._bokeh_timeout = Date.now() + 5000;\n    root._bokeh_failed_load = false;\n  }\n\n  const NB_LOAD_WARNING = {'data': {'text/html':\n     \"<div style='background-color: #fdd'>\\n\"+\n     \"<p>\\n\"+\n     \"BokehJS does not appear to have successfully loaded. If loading BokehJS from CDN, this \\n\"+\n     \"may be due to a slow or bad network connection. Possible fixes:\\n\"+\n     \"</p>\\n\"+\n     \"<ul>\\n\"+\n     \"<li>re-rerun `output_notebook()` to attempt to load from CDN again, or</li>\\n\"+\n     \"<li>use INLINE resources instead, as so:</li>\\n\"+\n     \"</ul>\\n\"+\n     \"<code>\\n\"+\n     \"from bokeh.resources import INLINE\\n\"+\n     \"output_notebook(resources=INLINE)\\n\"+\n     \"</code>\\n\"+\n     \"</div>\"}};\n\n  function display_loaded() {\n    const el = document.getElementById(null);\n    if (el != null) {\n      el.textContent = \"BokehJS is loading...\";\n    }\n    if (root.Bokeh !== undefined) {\n      if (el != null) {\n        el.textContent = \"BokehJS \" + root.Bokeh.version + \" successfully loaded.\";\n      }\n    } else if (Date.now() < root._bokeh_timeout) {\n      setTimeout(display_loaded, 100)\n    }\n  }\n\n  function run_callbacks() {\n    try {\n      root._bokeh_onload_callbacks.forEach(function(callback) {\n        if (callback != null)\n          callback();\n      });\n    } finally {\n      delete root._bokeh_onload_callbacks\n    }\n    console.debug(\"Bokeh: all callbacks have finished\");\n  }\n\n  function load_libs(css_urls, js_urls, callback) {\n    if (css_urls == null) css_urls = [];\n    if (js_urls == null) js_urls = [];\n\n    root._bokeh_onload_callbacks.push(callback);\n    if (root._bokeh_is_loading > 0) {\n      console.debug(\"Bokeh: BokehJS is being loaded, scheduling callback at\", now());\n      return null;\n    }\n    if (js_urls == null || js_urls.length === 0) {\n      run_callbacks();\n      return null;\n    }\n    console.debug(\"Bokeh: BokehJS not loaded, scheduling load and callback at\", now());\n    root._bokeh_is_loading = css_urls.length + js_urls.length;\n\n    function on_load() {\n      root._bokeh_is_loading--;\n      if (root._bokeh_is_loading === 0) {\n        console.debug(\"Bokeh: all BokehJS libraries/stylesheets loaded\");\n        run_callbacks()\n      }\n    }\n\n    function on_error(url) {\n      console.error(\"failed to load \" + url);\n    }\n\n    for (let i = 0; i < css_urls.length; i++) {\n      const url = css_urls[i];\n      const element = document.createElement(\"link\");\n      element.onload = on_load;\n      element.onerror = on_error.bind(null, url);\n      element.rel = \"stylesheet\";\n      element.type = \"text/css\";\n      element.href = url;\n      console.debug(\"Bokeh: injecting link tag for BokehJS stylesheet: \", url);\n      document.body.appendChild(element);\n    }\n\n    for (let i = 0; i < js_urls.length; i++) {\n      const url = js_urls[i];\n      const element = document.createElement('script');\n      element.onload = on_load;\n      element.onerror = on_error.bind(null, url);\n      element.async = false;\n      element.src = url;\n      console.debug(\"Bokeh: injecting script tag for BokehJS library: \", url);\n      document.head.appendChild(element);\n    }\n  };\n\n  function inject_raw_css(css) {\n    const element = document.createElement(\"style\");\n    element.appendChild(document.createTextNode(css));\n    document.body.appendChild(element);\n  }\n\n  const js_urls = [\"https://cdn.bokeh.org/bokeh/release/bokeh-3.3.1.min.js\", \"https://cdn.bokeh.org/bokeh/release/bokeh-gl-3.3.1.min.js\", \"https://cdn.bokeh.org/bokeh/release/bokeh-widgets-3.3.1.min.js\", \"https://cdn.bokeh.org/bokeh/release/bokeh-tables-3.3.1.min.js\", \"https://cdn.bokeh.org/bokeh/release/bokeh-mathjax-3.3.1.min.js\"];\n  const css_urls = [];\n\n  const inline_js = [    function(Bokeh) {\n      Bokeh.set_log_level(\"info\");\n    },\nfunction(Bokeh) {\n    }\n  ];\n\n  function run_inline_js() {\n    if (root.Bokeh !== undefined || force === true) {\n          for (let i = 0; i < inline_js.length; i++) {\n      inline_js[i].call(root, root.Bokeh);\n    }\n} else if (Date.now() < root._bokeh_timeout) {\n      setTimeout(run_inline_js, 100);\n    } else if (!root._bokeh_failed_load) {\n      console.log(\"Bokeh: BokehJS failed to load within specified timeout.\");\n      root._bokeh_failed_load = true;\n    } else if (force !== true) {\n      const cell = $(document.getElementById(null)).parents('.cell').data().cell;\n      cell.output_area.append_execute_result(NB_LOAD_WARNING)\n    }\n  }\n\n  if (root._bokeh_is_loading === 0) {\n    console.debug(\"Bokeh: BokehJS loaded, going straight to plotting\");\n    run_inline_js();\n  } else {\n    load_libs(css_urls, js_urls, function() {\n      console.debug(\"Bokeh: BokehJS plotting callback run at\", now());\n      run_inline_js();\n    });\n  }\n}(window));"
          },
          "metadata": {}
        },
        {
          "output_type": "display_data",
          "data": {
            "text/html": [
              "\n",
              "  <div id=\"d72faa0d-be69-4e1f-a60b-ec5b6d4cafc2\" data-root-id=\"p1172\" style=\"display: contents;\"></div>\n"
            ]
          },
          "metadata": {}
        },
        {
          "output_type": "display_data",
          "data": {
            "application/javascript": [
              "(function(root) {\n",
              "  function embed_document(root) {\n",
              "  const docs_json = {\"a0acdc5f-378a-4723-b249-2685b324c27f\":{\"version\":\"3.3.1\",\"title\":\"Bokeh Application\",\"roots\":[{\"type\":\"object\",\"name\":\"Figure\",\"id\":\"p1172\",\"attributes\":{\"width\":400,\"height\":400,\"x_range\":{\"type\":\"object\",\"name\":\"DataRange1d\",\"id\":\"p1173\"},\"y_range\":{\"type\":\"object\",\"name\":\"DataRange1d\",\"id\":\"p1174\"},\"x_scale\":{\"type\":\"object\",\"name\":\"LinearScale\",\"id\":\"p1182\"},\"y_scale\":{\"type\":\"object\",\"name\":\"LinearScale\",\"id\":\"p1183\"},\"title\":{\"type\":\"object\",\"name\":\"Title\",\"id\":\"p1175\",\"attributes\":{\"text\":\"Scatter Plot\"}},\"renderers\":[{\"type\":\"object\",\"name\":\"GlyphRenderer\",\"id\":\"p1204\",\"attributes\":{\"data_source\":{\"type\":\"object\",\"name\":\"ColumnDataSource\",\"id\":\"p1169\",\"attributes\":{\"selected\":{\"type\":\"object\",\"name\":\"Selection\",\"id\":\"p1170\",\"attributes\":{\"indices\":[],\"line_indices\":[]}},\"selection_policy\":{\"type\":\"object\",\"name\":\"UnionRenderers\",\"id\":\"p1171\"},\"data\":{\"type\":\"map\",\"entries\":[[\"x\",[1,2,3,4,5]],[\"y\",[6,7,2,4,8]],[\"color\",[\"red\",\"green\",\"blue\",\"orange\",\"purple\"]]]}}},\"view\":{\"type\":\"object\",\"name\":\"CDSView\",\"id\":\"p1205\",\"attributes\":{\"filter\":{\"type\":\"object\",\"name\":\"AllIndices\",\"id\":\"p1206\"}}},\"glyph\":{\"type\":\"object\",\"name\":\"Scatter\",\"id\":\"p1201\",\"attributes\":{\"x\":{\"type\":\"field\",\"field\":\"x\"},\"y\":{\"type\":\"field\",\"field\":\"y\"},\"size\":{\"type\":\"value\",\"value\":10},\"line_color\":{\"type\":\"field\",\"field\":\"color\"},\"fill_color\":{\"type\":\"field\",\"field\":\"color\"},\"hatch_color\":{\"type\":\"field\",\"field\":\"color\"}}},\"nonselection_glyph\":{\"type\":\"object\",\"name\":\"Scatter\",\"id\":\"p1202\",\"attributes\":{\"x\":{\"type\":\"field\",\"field\":\"x\"},\"y\":{\"type\":\"field\",\"field\":\"y\"},\"size\":{\"type\":\"value\",\"value\":10},\"line_color\":{\"type\":\"field\",\"field\":\"color\"},\"line_alpha\":{\"type\":\"value\",\"value\":0.1},\"fill_color\":{\"type\":\"field\",\"field\":\"color\"},\"fill_alpha\":{\"type\":\"value\",\"value\":0.1},\"hatch_color\":{\"type\":\"field\",\"field\":\"color\"},\"hatch_alpha\":{\"type\":\"value\",\"value\":0.1}}},\"muted_glyph\":{\"type\":\"object\",\"name\":\"Scatter\",\"id\":\"p1203\",\"attributes\":{\"x\":{\"type\":\"field\",\"field\":\"x\"},\"y\":{\"type\":\"field\",\"field\":\"y\"},\"size\":{\"type\":\"value\",\"value\":10},\"line_color\":{\"type\":\"field\",\"field\":\"color\"},\"line_alpha\":{\"type\":\"value\",\"value\":0.2},\"fill_color\":{\"type\":\"field\",\"field\":\"color\"},\"fill_alpha\":{\"type\":\"value\",\"value\":0.2},\"hatch_color\":{\"type\":\"field\",\"field\":\"color\"},\"hatch_alpha\":{\"type\":\"value\",\"value\":0.2}}}}}],\"toolbar\":{\"type\":\"object\",\"name\":\"Toolbar\",\"id\":\"p1181\",\"attributes\":{\"tools\":[{\"type\":\"object\",\"name\":\"PanTool\",\"id\":\"p1194\"},{\"type\":\"object\",\"name\":\"BoxZoomTool\",\"id\":\"p1195\",\"attributes\":{\"overlay\":{\"type\":\"object\",\"name\":\"BoxAnnotation\",\"id\":\"p1196\",\"attributes\":{\"syncable\":false,\"level\":\"overlay\",\"visible\":false,\"left_units\":\"canvas\",\"right_units\":\"canvas\",\"top_units\":\"canvas\",\"bottom_units\":\"canvas\",\"line_color\":\"black\",\"line_alpha\":1.0,\"line_width\":2,\"line_dash\":[4,4],\"fill_color\":\"lightgrey\",\"fill_alpha\":0.5}}}},{\"type\":\"object\",\"name\":\"ResetTool\",\"id\":\"p1197\"}]}},\"left\":[{\"type\":\"object\",\"name\":\"LinearAxis\",\"id\":\"p1189\",\"attributes\":{\"ticker\":{\"type\":\"object\",\"name\":\"BasicTicker\",\"id\":\"p1190\",\"attributes\":{\"mantissas\":[1,2,5]}},\"formatter\":{\"type\":\"object\",\"name\":\"BasicTickFormatter\",\"id\":\"p1191\"},\"axis_label\":\"Y-axis\",\"major_label_policy\":{\"type\":\"object\",\"name\":\"AllLabels\",\"id\":\"p1192\"}}}],\"below\":[{\"type\":\"object\",\"name\":\"LinearAxis\",\"id\":\"p1184\",\"attributes\":{\"ticker\":{\"type\":\"object\",\"name\":\"BasicTicker\",\"id\":\"p1185\",\"attributes\":{\"mantissas\":[1,2,5]}},\"formatter\":{\"type\":\"object\",\"name\":\"BasicTickFormatter\",\"id\":\"p1186\"},\"axis_label\":\"X-axis\",\"major_label_policy\":{\"type\":\"object\",\"name\":\"AllLabels\",\"id\":\"p1187\"}}}],\"center\":[{\"type\":\"object\",\"name\":\"Grid\",\"id\":\"p1188\",\"attributes\":{\"axis\":{\"id\":\"p1184\"}}},{\"type\":\"object\",\"name\":\"Grid\",\"id\":\"p1193\",\"attributes\":{\"dimension\":1,\"axis\":{\"id\":\"p1189\"}}}]}}]}};\n",
              "  const render_items = [{\"docid\":\"a0acdc5f-378a-4723-b249-2685b324c27f\",\"roots\":{\"p1172\":\"d72faa0d-be69-4e1f-a60b-ec5b6d4cafc2\"},\"root_ids\":[\"p1172\"]}];\n",
              "  root.Bokeh.embed.embed_items_notebook(docs_json, render_items);\n",
              "  }\n",
              "  if (root.Bokeh !== undefined) {\n",
              "    embed_document(root);\n",
              "  } else {\n",
              "    let attempts = 0;\n",
              "    const timer = setInterval(function(root) {\n",
              "      if (root.Bokeh !== undefined) {\n",
              "        clearInterval(timer);\n",
              "        embed_document(root);\n",
              "      } else {\n",
              "        attempts++;\n",
              "        if (attempts > 100) {\n",
              "          clearInterval(timer);\n",
              "          console.log(\"Bokeh: ERROR: Unable to run BokehJS code because BokehJS library is missing\");\n",
              "        }\n",
              "      }\n",
              "    }, 10, root)\n",
              "  }\n",
              "})(window);"
            ],
            "application/vnd.bokehjs_exec.v0+json": ""
          },
          "metadata": {
            "application/vnd.bokehjs_exec.v0+json": {
              "id": "p1172"
            }
          }
        }
      ]
    },
    {
      "cell_type": "markdown",
      "source": [
        "![Screenshot 2023-11-24 140720.png](data:image/png;base64,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)"
      ],
      "metadata": {
        "id": "-DxAVZyRfOvD"
      }
    },
    {
      "cell_type": "markdown",
      "source": [
        "In this example:\n",
        "\n",
        "1. We import necessary modules from Bokeh.\n",
        "2. We define sample data for the x-axis, y-axis, and colors.\n",
        "3. We create a ColumnDataSource to hold our data.\n",
        "4. We create a Bokeh figure (figure) with specified tools, width, and height.\n",
        "5. We add a scatter plot to the figure using the scatter method.\n",
        "6. We set axis labels for the plot.\n",
        "Optionally, we specify an output file (HTML) where the plot will be saved.\n",
        "Finally, we display the plot using the show function."
      ],
      "metadata": {
        "id": "JGTI-KlEVAjl"
      }
    },
    {
      "cell_type": "markdown",
      "source": [
        "### 2. What are glyphs in Bokeh, and how can you add them to a Bokeh plot? Explain with an example."
      ],
      "metadata": {
        "id": "dm1CeDUAV_ub"
      }
    },
    {
      "cell_type": "markdown",
      "source": [
        "In Bokeh, glyphs are visual shapes or markers that you can add to a plot to represent your data. Glyphs are the basic building blocks of Bokeh plots and can represent various types of visual elements such as lines, circles, squares, bars, patches, and more. Each glyph has attributes that determine its appearance, such as color, size, and shape."
      ],
      "metadata": {
        "id": "hgwjvkDuWF3c"
      }
    },
    {
      "cell_type": "code",
      "source": [
        "from bokeh.plotting import figure, output_file, show\n",
        "\n",
        "x = [1, 2, 3, 4, 5]\n",
        "y = [6, 7, 2, 4, 8]\n",
        "\n",
        "# Specify the output file (optional)\n",
        "output_file(\"glyph_example.html\")\n",
        "\n",
        "# Create a Bokeh figure\n",
        "plot = figure(title=\"Glyph Example\", tools=\"pan,box_zoom,reset\", width=400, height=400)\n",
        "\n",
        "# Add a circle glyph\n",
        "plot.circle(x, y, size=10, color=\"red\", alpha=0.8, legend_label=\"Circle\")\n",
        "\n",
        "# Add a square glyph\n",
        "plot.square(x, y, size=10, color=\"blue\", alpha=0.8, legend_label=\"Square\")\n",
        "\n",
        "# Add a line glyph\n",
        "plot.line(x, y, line_width=2, line_color=\"green\", legend_label=\"Line\")\n",
        "\n",
        "# Set axis labels\n",
        "plot.xaxis.axis_label = \"X-axis\"\n",
        "plot.yaxis.axis_label = \"Y-axis\"\n",
        "\n",
        "# Add a legend\n",
        "plot.legend.location = \"top_left\"\n",
        "plot.legend.click_policy = \"hide\"  # Click on legend items to hide/show\n",
        "\n",
        "# Show the plot\n",
        "show(plot)"
      ],
      "metadata": {
        "colab": {
          "base_uri": "https://localhost:8080/",
          "height": 417
        },
        "id": "Yuoiyva8VtAX",
        "outputId": "96748736-82fb-4026-87b8-65f03536dbe2"
      },
      "execution_count": 10,
      "outputs": [
        {
          "output_type": "display_data",
          "data": {
            "application/javascript": [
              "(function(root) {\n",
              "  function now() {\n",
              "    return new Date();\n",
              "  }\n",
              "\n",
              "  const force = true;\n",
              "\n",
              "  if (typeof root._bokeh_onload_callbacks === \"undefined\" || force === true) {\n",
              "    root._bokeh_onload_callbacks = [];\n",
              "    root._bokeh_is_loading = undefined;\n",
              "  }\n",
              "\n",
              "const JS_MIME_TYPE = 'application/javascript';\n",
              "  const HTML_MIME_TYPE = 'text/html';\n",
              "  const EXEC_MIME_TYPE = 'application/vnd.bokehjs_exec.v0+json';\n",
              "  const CLASS_NAME = 'output_bokeh rendered_html';\n",
              "\n",
              "  /**\n",
              "   * Render data to the DOM node\n",
              "   */\n",
              "  function render(props, node) {\n",
              "    const script = document.createElement(\"script\");\n",
              "    node.appendChild(script);\n",
              "  }\n",
              "\n",
              "  /**\n",
              "   * Handle when an output is cleared or removed\n",
              "   */\n",
              "  function handleClearOutput(event, handle) {\n",
              "    function drop(id) {\n",
              "      const view = Bokeh.index.get_by_id(id)\n",
              "      if (view != null) {\n",
              "        view.model.document.clear()\n",
              "        Bokeh.index.delete(view)\n",
              "      }\n",
              "    }\n",
              "\n",
              "    const cell = handle.cell;\n",
              "\n",
              "    const id = cell.output_area._bokeh_element_id;\n",
              "    const server_id = cell.output_area._bokeh_server_id;\n",
              "\n",
              "    // Clean up Bokeh references\n",
              "    if (id != null) {\n",
              "      drop(id)\n",
              "    }\n",
              "\n",
              "    if (server_id !== undefined) {\n",
              "      // Clean up Bokeh references\n",
              "      const cmd_clean = \"from bokeh.io.state import curstate; print(curstate().uuid_to_server['\" + server_id + \"'].get_sessions()[0].document.roots[0]._id)\";\n",
              "      cell.notebook.kernel.execute(cmd_clean, {\n",
              "        iopub: {\n",
              "          output: function(msg) {\n",
              "            const id = msg.content.text.trim()\n",
              "            drop(id)\n",
              "          }\n",
              "        }\n",
              "      });\n",
              "      // Destroy server and session\n",
              "      const cmd_destroy = \"import bokeh.io.notebook as ion; ion.destroy_server('\" + server_id + \"')\";\n",
              "      cell.notebook.kernel.execute(cmd_destroy);\n",
              "    }\n",
              "  }\n",
              "\n",
              "  /**\n",
              "   * Handle when a new output is added\n",
              "   */\n",
              "  function handleAddOutput(event, handle) {\n",
              "    const output_area = handle.output_area;\n",
              "    const output = handle.output;\n",
              "\n",
              "    // limit handleAddOutput to display_data with EXEC_MIME_TYPE content only\n",
              "    if ((output.output_type != \"display_data\") || (!Object.prototype.hasOwnProperty.call(output.data, EXEC_MIME_TYPE))) {\n",
              "      return\n",
              "    }\n",
              "\n",
              "    const toinsert = output_area.element.find(\".\" + CLASS_NAME.split(' ')[0]);\n",
              "\n",
              "    if (output.metadata[EXEC_MIME_TYPE][\"id\"] !== undefined) {\n",
              "      toinsert[toinsert.length - 1].firstChild.textContent = output.data[JS_MIME_TYPE];\n",
              "      // store reference to embed id on output_area\n",
              "      output_area._bokeh_element_id = output.metadata[EXEC_MIME_TYPE][\"id\"];\n",
              "    }\n",
              "    if (output.metadata[EXEC_MIME_TYPE][\"server_id\"] !== undefined) {\n",
              "      const bk_div = document.createElement(\"div\");\n",
              "      bk_div.innerHTML = output.data[HTML_MIME_TYPE];\n",
              "      const script_attrs = bk_div.children[0].attributes;\n",
              "      for (let i = 0; i < script_attrs.length; i++) {\n",
              "        toinsert[toinsert.length - 1].firstChild.setAttribute(script_attrs[i].name, script_attrs[i].value);\n",
              "        toinsert[toinsert.length - 1].firstChild.textContent = bk_div.children[0].textContent\n",
              "      }\n",
              "      // store reference to server id on output_area\n",
              "      output_area._bokeh_server_id = output.metadata[EXEC_MIME_TYPE][\"server_id\"];\n",
              "    }\n",
              "  }\n",
              "\n",
              "  function register_renderer(events, OutputArea) {\n",
              "\n",
              "    function append_mime(data, metadata, element) {\n",
              "      // create a DOM node to render to\n",
              "      const toinsert = this.create_output_subarea(\n",
              "        metadata,\n",
              "        CLASS_NAME,\n",
              "        EXEC_MIME_TYPE\n",
              "      );\n",
              "      this.keyboard_manager.register_events(toinsert);\n",
              "      // Render to node\n",
              "      const props = {data: data, metadata: metadata[EXEC_MIME_TYPE]};\n",
              "      render(props, toinsert[toinsert.length - 1]);\n",
              "      element.append(toinsert);\n",
              "      return toinsert\n",
              "    }\n",
              "\n",
              "    /* Handle when an output is cleared or removed */\n",
              "    events.on('clear_output.CodeCell', handleClearOutput);\n",
              "    events.on('delete.Cell', handleClearOutput);\n",
              "\n",
              "    /* Handle when a new output is added */\n",
              "    events.on('output_added.OutputArea', handleAddOutput);\n",
              "\n",
              "    /**\n",
              "     * Register the mime type and append_mime function with output_area\n",
              "     */\n",
              "    OutputArea.prototype.register_mime_type(EXEC_MIME_TYPE, append_mime, {\n",
              "      /* Is output safe? */\n",
              "      safe: true,\n",
              "      /* Index of renderer in `output_area.display_order` */\n",
              "      index: 0\n",
              "    });\n",
              "  }\n",
              "\n",
              "  // register the mime type if in Jupyter Notebook environment and previously unregistered\n",
              "  if (root.Jupyter !== undefined) {\n",
              "    const events = require('base/js/events');\n",
              "    const OutputArea = require('notebook/js/outputarea').OutputArea;\n",
              "\n",
              "    if (OutputArea.prototype.mime_types().indexOf(EXEC_MIME_TYPE) == -1) {\n",
              "      register_renderer(events, OutputArea);\n",
              "    }\n",
              "  }\n",
              "  if (typeof (root._bokeh_timeout) === \"undefined\" || force === true) {\n",
              "    root._bokeh_timeout = Date.now() + 5000;\n",
              "    root._bokeh_failed_load = false;\n",
              "  }\n",
              "\n",
              "  const NB_LOAD_WARNING = {'data': {'text/html':\n",
              "     \"<div style='background-color: #fdd'>\\n\"+\n",
              "     \"<p>\\n\"+\n",
              "     \"BokehJS does not appear to have successfully loaded. If loading BokehJS from CDN, this \\n\"+\n",
              "     \"may be due to a slow or bad network connection. Possible fixes:\\n\"+\n",
              "     \"</p>\\n\"+\n",
              "     \"<ul>\\n\"+\n",
              "     \"<li>re-rerun `output_notebook()` to attempt to load from CDN again, or</li>\\n\"+\n",
              "     \"<li>use INLINE resources instead, as so:</li>\\n\"+\n",
              "     \"</ul>\\n\"+\n",
              "     \"<code>\\n\"+\n",
              "     \"from bokeh.resources import INLINE\\n\"+\n",
              "     \"output_notebook(resources=INLINE)\\n\"+\n",
              "     \"</code>\\n\"+\n",
              "     \"</div>\"}};\n",
              "\n",
              "  function display_loaded() {\n",
              "    const el = document.getElementById(null);\n",
              "    if (el != null) {\n",
              "      el.textContent = \"BokehJS is loading...\";\n",
              "    }\n",
              "    if (root.Bokeh !== undefined) {\n",
              "      if (el != null) {\n",
              "        el.textContent = \"BokehJS \" + root.Bokeh.version + \" successfully loaded.\";\n",
              "      }\n",
              "    } else if (Date.now() < root._bokeh_timeout) {\n",
              "      setTimeout(display_loaded, 100)\n",
              "    }\n",
              "  }\n",
              "\n",
              "  function run_callbacks() {\n",
              "    try {\n",
              "      root._bokeh_onload_callbacks.forEach(function(callback) {\n",
              "        if (callback != null)\n",
              "          callback();\n",
              "      });\n",
              "    } finally {\n",
              "      delete root._bokeh_onload_callbacks\n",
              "    }\n",
              "    console.debug(\"Bokeh: all callbacks have finished\");\n",
              "  }\n",
              "\n",
              "  function load_libs(css_urls, js_urls, callback) {\n",
              "    if (css_urls == null) css_urls = [];\n",
              "    if (js_urls == null) js_urls = [];\n",
              "\n",
              "    root._bokeh_onload_callbacks.push(callback);\n",
              "    if (root._bokeh_is_loading > 0) {\n",
              "      console.debug(\"Bokeh: BokehJS is being loaded, scheduling callback at\", now());\n",
              "      return null;\n",
              "    }\n",
              "    if (js_urls == null || js_urls.length === 0) {\n",
              "      run_callbacks();\n",
              "      return null;\n",
              "    }\n",
              "    console.debug(\"Bokeh: BokehJS not loaded, scheduling load and callback at\", now());\n",
              "    root._bokeh_is_loading = css_urls.length + js_urls.length;\n",
              "\n",
              "    function on_load() {\n",
              "      root._bokeh_is_loading--;\n",
              "      if (root._bokeh_is_loading === 0) {\n",
              "        console.debug(\"Bokeh: all BokehJS libraries/stylesheets loaded\");\n",
              "        run_callbacks()\n",
              "      }\n",
              "    }\n",
              "\n",
              "    function on_error(url) {\n",
              "      console.error(\"failed to load \" + url);\n",
              "    }\n",
              "\n",
              "    for (let i = 0; i < css_urls.length; i++) {\n",
              "      const url = css_urls[i];\n",
              "      const element = document.createElement(\"link\");\n",
              "      element.onload = on_load;\n",
              "      element.onerror = on_error.bind(null, url);\n",
              "      element.rel = \"stylesheet\";\n",
              "      element.type = \"text/css\";\n",
              "      element.href = url;\n",
              "      console.debug(\"Bokeh: injecting link tag for BokehJS stylesheet: \", url);\n",
              "      document.body.appendChild(element);\n",
              "    }\n",
              "\n",
              "    for (let i = 0; i < js_urls.length; i++) {\n",
              "      const url = js_urls[i];\n",
              "      const element = document.createElement('script');\n",
              "      element.onload = on_load;\n",
              "      element.onerror = on_error.bind(null, url);\n",
              "      element.async = false;\n",
              "      element.src = url;\n",
              "      console.debug(\"Bokeh: injecting script tag for BokehJS library: \", url);\n",
              "      document.head.appendChild(element);\n",
              "    }\n",
              "  };\n",
              "\n",
              "  function inject_raw_css(css) {\n",
              "    const element = document.createElement(\"style\");\n",
              "    element.appendChild(document.createTextNode(css));\n",
              "    document.body.appendChild(element);\n",
              "  }\n",
              "\n",
              "  const js_urls = [\"https://cdn.bokeh.org/bokeh/release/bokeh-3.3.1.min.js\", \"https://cdn.bokeh.org/bokeh/release/bokeh-gl-3.3.1.min.js\", \"https://cdn.bokeh.org/bokeh/release/bokeh-widgets-3.3.1.min.js\", \"https://cdn.bokeh.org/bokeh/release/bokeh-tables-3.3.1.min.js\", \"https://cdn.bokeh.org/bokeh/release/bokeh-mathjax-3.3.1.min.js\"];\n",
              "  const css_urls = [];\n",
              "\n",
              "  const inline_js = [    function(Bokeh) {\n",
              "      Bokeh.set_log_level(\"info\");\n",
              "    },\n",
              "function(Bokeh) {\n",
              "    }\n",
              "  ];\n",
              "\n",
              "  function run_inline_js() {\n",
              "    if (root.Bokeh !== undefined || force === true) {\n",
              "          for (let i = 0; i < inline_js.length; i++) {\n",
              "      inline_js[i].call(root, root.Bokeh);\n",
              "    }\n",
              "} else if (Date.now() < root._bokeh_timeout) {\n",
              "      setTimeout(run_inline_js, 100);\n",
              "    } else if (!root._bokeh_failed_load) {\n",
              "      console.log(\"Bokeh: BokehJS failed to load within specified timeout.\");\n",
              "      root._bokeh_failed_load = true;\n",
              "    } else if (force !== true) {\n",
              "      const cell = $(document.getElementById(null)).parents('.cell').data().cell;\n",
              "      cell.output_area.append_execute_result(NB_LOAD_WARNING)\n",
              "    }\n",
              "  }\n",
              "\n",
              "  if (root._bokeh_is_loading === 0) {\n",
              "    console.debug(\"Bokeh: BokehJS loaded, going straight to plotting\");\n",
              "    run_inline_js();\n",
              "  } else {\n",
              "    load_libs(css_urls, js_urls, function() {\n",
              "      console.debug(\"Bokeh: BokehJS plotting callback run at\", now());\n",
              "      run_inline_js();\n",
              "    });\n",
              "  }\n",
              "}(window));"
            ],
            "application/vnd.bokehjs_load.v0+json": "(function(root) {\n  function now() {\n    return new Date();\n  }\n\n  const force = true;\n\n  if (typeof root._bokeh_onload_callbacks === \"undefined\" || force === true) {\n    root._bokeh_onload_callbacks = [];\n    root._bokeh_is_loading = undefined;\n  }\n\n\n  if (typeof (root._bokeh_timeout) === \"undefined\" || force === true) {\n    root._bokeh_timeout = Date.now() + 5000;\n    root._bokeh_failed_load = false;\n  }\n\n  const NB_LOAD_WARNING = {'data': {'text/html':\n     \"<div style='background-color: #fdd'>\\n\"+\n     \"<p>\\n\"+\n     \"BokehJS does not appear to have successfully loaded. If loading BokehJS from CDN, this \\n\"+\n     \"may be due to a slow or bad network connection. Possible fixes:\\n\"+\n     \"</p>\\n\"+\n     \"<ul>\\n\"+\n     \"<li>re-rerun `output_notebook()` to attempt to load from CDN again, or</li>\\n\"+\n     \"<li>use INLINE resources instead, as so:</li>\\n\"+\n     \"</ul>\\n\"+\n     \"<code>\\n\"+\n     \"from bokeh.resources import INLINE\\n\"+\n     \"output_notebook(resources=INLINE)\\n\"+\n     \"</code>\\n\"+\n     \"</div>\"}};\n\n  function display_loaded() {\n    const el = document.getElementById(null);\n    if (el != null) {\n      el.textContent = \"BokehJS is loading...\";\n    }\n    if (root.Bokeh !== undefined) {\n      if (el != null) {\n        el.textContent = \"BokehJS \" + root.Bokeh.version + \" successfully loaded.\";\n      }\n    } else if (Date.now() < root._bokeh_timeout) {\n      setTimeout(display_loaded, 100)\n    }\n  }\n\n  function run_callbacks() {\n    try {\n      root._bokeh_onload_callbacks.forEach(function(callback) {\n        if (callback != null)\n          callback();\n      });\n    } finally {\n      delete root._bokeh_onload_callbacks\n    }\n    console.debug(\"Bokeh: all callbacks have finished\");\n  }\n\n  function load_libs(css_urls, js_urls, callback) {\n    if (css_urls == null) css_urls = [];\n    if (js_urls == null) js_urls = [];\n\n    root._bokeh_onload_callbacks.push(callback);\n    if (root._bokeh_is_loading > 0) {\n      console.debug(\"Bokeh: BokehJS is being loaded, scheduling callback at\", now());\n      return null;\n    }\n    if (js_urls == null || js_urls.length === 0) {\n      run_callbacks();\n      return null;\n    }\n    console.debug(\"Bokeh: BokehJS not loaded, scheduling load and callback at\", now());\n    root._bokeh_is_loading = css_urls.length + js_urls.length;\n\n    function on_load() {\n      root._bokeh_is_loading--;\n      if (root._bokeh_is_loading === 0) {\n        console.debug(\"Bokeh: all BokehJS libraries/stylesheets loaded\");\n        run_callbacks()\n      }\n    }\n\n    function on_error(url) {\n      console.error(\"failed to load \" + url);\n    }\n\n    for (let i = 0; i < css_urls.length; i++) {\n      const url = css_urls[i];\n      const element = document.createElement(\"link\");\n      element.onload = on_load;\n      element.onerror = on_error.bind(null, url);\n      element.rel = \"stylesheet\";\n      element.type = \"text/css\";\n      element.href = url;\n      console.debug(\"Bokeh: injecting link tag for BokehJS stylesheet: \", url);\n      document.body.appendChild(element);\n    }\n\n    for (let i = 0; i < js_urls.length; i++) {\n      const url = js_urls[i];\n      const element = document.createElement('script');\n      element.onload = on_load;\n      element.onerror = on_error.bind(null, url);\n      element.async = false;\n      element.src = url;\n      console.debug(\"Bokeh: injecting script tag for BokehJS library: \", url);\n      document.head.appendChild(element);\n    }\n  };\n\n  function inject_raw_css(css) {\n    const element = document.createElement(\"style\");\n    element.appendChild(document.createTextNode(css));\n    document.body.appendChild(element);\n  }\n\n  const js_urls = [\"https://cdn.bokeh.org/bokeh/release/bokeh-3.3.1.min.js\", \"https://cdn.bokeh.org/bokeh/release/bokeh-gl-3.3.1.min.js\", \"https://cdn.bokeh.org/bokeh/release/bokeh-widgets-3.3.1.min.js\", \"https://cdn.bokeh.org/bokeh/release/bokeh-tables-3.3.1.min.js\", \"https://cdn.bokeh.org/bokeh/release/bokeh-mathjax-3.3.1.min.js\"];\n  const css_urls = [];\n\n  const inline_js = [    function(Bokeh) {\n      Bokeh.set_log_level(\"info\");\n    },\nfunction(Bokeh) {\n    }\n  ];\n\n  function run_inline_js() {\n    if (root.Bokeh !== undefined || force === true) {\n          for (let i = 0; i < inline_js.length; i++) {\n      inline_js[i].call(root, root.Bokeh);\n    }\n} else if (Date.now() < root._bokeh_timeout) {\n      setTimeout(run_inline_js, 100);\n    } else if (!root._bokeh_failed_load) {\n      console.log(\"Bokeh: BokehJS failed to load within specified timeout.\");\n      root._bokeh_failed_load = true;\n    } else if (force !== true) {\n      const cell = $(document.getElementById(null)).parents('.cell').data().cell;\n      cell.output_area.append_execute_result(NB_LOAD_WARNING)\n    }\n  }\n\n  if (root._bokeh_is_loading === 0) {\n    console.debug(\"Bokeh: BokehJS loaded, going straight to plotting\");\n    run_inline_js();\n  } else {\n    load_libs(css_urls, js_urls, function() {\n      console.debug(\"Bokeh: BokehJS plotting callback run at\", now());\n      run_inline_js();\n    });\n  }\n}(window));"
          },
          "metadata": {}
        },
        {
          "output_type": "display_data",
          "data": {
            "text/html": [
              "\n",
              "  <div id=\"aebdebc6-3d38-44cd-9b61-486c3cd703d7\" data-root-id=\"p1208\" style=\"display: contents;\"></div>\n"
            ]
          },
          "metadata": {}
        },
        {
          "output_type": "display_data",
          "data": {
            "application/javascript": [
              "(function(root) {\n",
              "  function embed_document(root) {\n",
              "  const docs_json = {\"dcc6d0e0-59e4-4734-b6f9-a00270430927\":{\"version\":\"3.3.1\",\"title\":\"Bokeh Application\",\"roots\":[{\"type\":\"object\",\"name\":\"Figure\",\"id\":\"p1208\",\"attributes\":{\"width\":400,\"height\":400,\"x_range\":{\"type\":\"object\",\"name\":\"DataRange1d\",\"id\":\"p1209\"},\"y_range\":{\"type\":\"object\",\"name\":\"DataRange1d\",\"id\":\"p1210\"},\"x_scale\":{\"type\":\"object\",\"name\":\"LinearScale\",\"id\":\"p1218\"},\"y_scale\":{\"type\":\"object\",\"name\":\"LinearScale\",\"id\":\"p1219\"},\"title\":{\"type\":\"object\",\"name\":\"Title\",\"id\":\"p1211\",\"attributes\":{\"text\":\"Glyph Example\"}},\"renderers\":[{\"type\":\"object\",\"name\":\"GlyphRenderer\",\"id\":\"p1240\",\"attributes\":{\"data_source\":{\"type\":\"object\",\"name\":\"ColumnDataSource\",\"id\":\"p1234\",\"attributes\":{\"selected\":{\"type\":\"object\",\"name\":\"Selection\",\"id\":\"p1235\",\"attributes\":{\"indices\":[],\"line_indices\":[]}},\"selection_policy\":{\"type\":\"object\",\"name\":\"UnionRenderers\",\"id\":\"p1236\"},\"data\":{\"type\":\"map\",\"entries\":[[\"x\",[1,2,3,4,5]],[\"y\",[6,7,2,4,8]]]}}},\"view\":{\"type\":\"object\",\"name\":\"CDSView\",\"id\":\"p1241\",\"attributes\":{\"filter\":{\"type\":\"object\",\"name\":\"AllIndices\",\"id\":\"p1242\"}}},\"glyph\":{\"type\":\"object\",\"name\":\"Circle\",\"id\":\"p1237\",\"attributes\":{\"x\":{\"type\":\"field\",\"field\":\"x\"},\"y\":{\"type\":\"field\",\"field\":\"y\"},\"size\":{\"type\":\"value\",\"value\":10},\"line_color\":{\"type\":\"value\",\"value\":\"red\"},\"line_alpha\":{\"type\":\"value\",\"value\":0.8},\"fill_color\":{\"type\":\"value\",\"value\":\"red\"},\"fill_alpha\":{\"type\":\"value\",\"value\":0.8},\"hatch_color\":{\"type\":\"value\",\"value\":\"red\"},\"hatch_alpha\":{\"type\":\"value\",\"value\":0.8}}},\"nonselection_glyph\":{\"type\":\"object\",\"name\":\"Circle\",\"id\":\"p1238\",\"attributes\":{\"x\":{\"type\":\"field\",\"field\":\"x\"},\"y\":{\"type\":\"field\",\"field\":\"y\"},\"size\":{\"type\":\"value\",\"value\":10},\"line_color\":{\"type\":\"value\",\"value\":\"red\"},\"line_alpha\":{\"type\":\"value\",\"value\":0.1},\"fill_color\":{\"type\":\"value\",\"value\":\"red\"},\"fill_alpha\":{\"type\":\"value\",\"value\":0.1},\"hatch_color\":{\"type\":\"value\",\"value\":\"red\"},\"hatch_alpha\":{\"type\":\"value\",\"value\":0.1}}},\"muted_glyph\":{\"type\":\"object\",\"name\":\"Circle\",\"id\":\"p1239\",\"attributes\":{\"x\":{\"type\":\"field\",\"field\":\"x\"},\"y\":{\"type\":\"field\",\"field\":\"y\"},\"size\":{\"type\":\"value\",\"value\":10},\"line_color\":{\"type\":\"value\",\"value\":\"red\"},\"line_alpha\":{\"type\":\"value\",\"value\":0.2},\"fill_color\":{\"type\":\"value\",\"value\":\"red\"},\"fill_alpha\":{\"type\":\"value\",\"value\":0.2},\"hatch_color\":{\"type\":\"value\",\"value\":\"red\"},\"hatch_alpha\":{\"type\":\"value\",\"value\":0.2}}}}},{\"type\":\"object\",\"name\":\"GlyphRenderer\",\"id\":\"p1251\",\"attributes\":{\"data_source\":{\"type\":\"object\",\"name\":\"ColumnDataSource\",\"id\":\"p1245\",\"attributes\":{\"selected\":{\"type\":\"object\",\"name\":\"Selection\",\"id\":\"p1246\",\"attributes\":{\"indices\":[],\"line_indices\":[]}},\"selection_policy\":{\"type\":\"object\",\"name\":\"UnionRenderers\",\"id\":\"p1247\"},\"data\":{\"type\":\"map\",\"entries\":[[\"x\",[1,2,3,4,5]],[\"y\",[6,7,2,4,8]]]}}},\"view\":{\"type\":\"object\",\"name\":\"CDSView\",\"id\":\"p1252\",\"attributes\":{\"filter\":{\"type\":\"object\",\"name\":\"AllIndices\",\"id\":\"p1253\"}}},\"glyph\":{\"type\":\"object\",\"name\":\"Scatter\",\"id\":\"p1248\",\"attributes\":{\"x\":{\"type\":\"field\",\"field\":\"x\"},\"y\":{\"type\":\"field\",\"field\":\"y\"},\"size\":{\"type\":\"value\",\"value\":10},\"line_color\":{\"type\":\"value\",\"value\":\"blue\"},\"line_alpha\":{\"type\":\"value\",\"value\":0.8},\"fill_color\":{\"type\":\"value\",\"value\":\"blue\"},\"fill_alpha\":{\"type\":\"value\",\"value\":0.8},\"hatch_color\":{\"type\":\"value\",\"value\":\"blue\"},\"hatch_alpha\":{\"type\":\"value\",\"value\":0.8},\"marker\":{\"type\":\"value\",\"value\":\"square\"}}},\"nonselection_glyph\":{\"type\":\"object\",\"name\":\"Scatter\",\"id\":\"p1249\",\"attributes\":{\"x\":{\"type\":\"field\",\"field\":\"x\"},\"y\":{\"type\":\"field\",\"field\":\"y\"},\"size\":{\"type\":\"value\",\"value\":10},\"line_color\":{\"type\":\"value\",\"value\":\"blue\"},\"line_alpha\":{\"type\":\"value\",\"value\":0.1},\"fill_color\":{\"type\":\"value\",\"value\":\"blue\"},\"fill_alpha\":{\"type\":\"value\",\"value\":0.1},\"hatch_color\":{\"type\":\"value\",\"value\":\"blue\"},\"hatch_alpha\":{\"type\":\"value\",\"value\":0.1},\"marker\":{\"type\":\"value\",\"value\":\"square\"}}},\"muted_glyph\":{\"type\":\"object\",\"name\":\"Scatter\",\"id\":\"p1250\",\"attributes\":{\"x\":{\"type\":\"field\",\"field\":\"x\"},\"y\":{\"type\":\"field\",\"field\":\"y\"},\"size\":{\"type\":\"value\",\"value\":10},\"line_color\":{\"type\":\"value\",\"value\":\"blue\"},\"line_alpha\":{\"type\":\"value\",\"value\":0.2},\"fill_color\":{\"type\":\"value\",\"value\":\"blue\"},\"fill_alpha\":{\"type\":\"value\",\"value\":0.2},\"hatch_color\":{\"type\":\"value\",\"value\":\"blue\"},\"hatch_alpha\":{\"type\":\"value\",\"value\":0.2},\"marker\":{\"type\":\"value\",\"value\":\"square\"}}}}},{\"type\":\"object\",\"name\":\"GlyphRenderer\",\"id\":\"p1261\",\"attributes\":{\"data_source\":{\"type\":\"object\",\"name\":\"ColumnDataSource\",\"id\":\"p1255\",\"attributes\":{\"selected\":{\"type\":\"object\",\"name\":\"Selection\",\"id\":\"p1256\",\"attributes\":{\"indices\":[],\"line_indices\":[]}},\"selection_policy\":{\"type\":\"object\",\"name\":\"UnionRenderers\",\"id\":\"p1257\"},\"data\":{\"type\":\"map\",\"entries\":[[\"x\",[1,2,3,4,5]],[\"y\",[6,7,2,4,8]]]}}},\"view\":{\"type\":\"object\",\"name\":\"CDSView\",\"id\":\"p1262\",\"attributes\":{\"filter\":{\"type\":\"object\",\"name\":\"AllIndices\",\"id\":\"p1263\"}}},\"glyph\":{\"type\":\"object\",\"name\":\"Line\",\"id\":\"p1258\",\"attributes\":{\"x\":{\"type\":\"field\",\"field\":\"x\"},\"y\":{\"type\":\"field\",\"field\":\"y\"},\"line_color\":\"green\",\"line_width\":2}},\"nonselection_glyph\":{\"type\":\"object\",\"name\":\"Line\",\"id\":\"p1259\",\"attributes\":{\"x\":{\"type\":\"field\",\"field\":\"x\"},\"y\":{\"type\":\"field\",\"field\":\"y\"},\"line_color\":\"green\",\"line_alpha\":0.1,\"line_width\":2}},\"muted_glyph\":{\"type\":\"object\",\"name\":\"Line\",\"id\":\"p1260\",\"attributes\":{\"x\":{\"type\":\"field\",\"field\":\"x\"},\"y\":{\"type\":\"field\",\"field\":\"y\"},\"line_color\":\"green\",\"line_alpha\":0.2,\"line_width\":2}}}}],\"toolbar\":{\"type\":\"object\",\"name\":\"Toolbar\",\"id\":\"p1217\",\"attributes\":{\"tools\":[{\"type\":\"object\",\"name\":\"PanTool\",\"id\":\"p1230\"},{\"type\":\"object\",\"name\":\"BoxZoomTool\",\"id\":\"p1231\",\"attributes\":{\"overlay\":{\"type\":\"object\",\"name\":\"BoxAnnotation\",\"id\":\"p1232\",\"attributes\":{\"syncable\":false,\"level\":\"overlay\",\"visible\":false,\"left_units\":\"canvas\",\"right_units\":\"canvas\",\"top_units\":\"canvas\",\"bottom_units\":\"canvas\",\"line_color\":\"black\",\"line_alpha\":1.0,\"line_width\":2,\"line_dash\":[4,4],\"fill_color\":\"lightgrey\",\"fill_alpha\":0.5}}}},{\"type\":\"object\",\"name\":\"ResetTool\",\"id\":\"p1233\"}]}},\"left\":[{\"type\":\"object\",\"name\":\"LinearAxis\",\"id\":\"p1225\",\"attributes\":{\"ticker\":{\"type\":\"object\",\"name\":\"BasicTicker\",\"id\":\"p1226\",\"attributes\":{\"mantissas\":[1,2,5]}},\"formatter\":{\"type\":\"object\",\"name\":\"BasicTickFormatter\",\"id\":\"p1227\"},\"axis_label\":\"Y-axis\",\"major_label_policy\":{\"type\":\"object\",\"name\":\"AllLabels\",\"id\":\"p1228\"}}}],\"below\":[{\"type\":\"object\",\"name\":\"LinearAxis\",\"id\":\"p1220\",\"attributes\":{\"ticker\":{\"type\":\"object\",\"name\":\"BasicTicker\",\"id\":\"p1221\",\"attributes\":{\"mantissas\":[1,2,5]}},\"formatter\":{\"type\":\"object\",\"name\":\"BasicTickFormatter\",\"id\":\"p1222\"},\"axis_label\":\"X-axis\",\"major_label_policy\":{\"type\":\"object\",\"name\":\"AllLabels\",\"id\":\"p1223\"}}}],\"center\":[{\"type\":\"object\",\"name\":\"Grid\",\"id\":\"p1224\",\"attributes\":{\"axis\":{\"id\":\"p1220\"}}},{\"type\":\"object\",\"name\":\"Grid\",\"id\":\"p1229\",\"attributes\":{\"dimension\":1,\"axis\":{\"id\":\"p1225\"}}},{\"type\":\"object\",\"name\":\"Legend\",\"id\":\"p1243\",\"attributes\":{\"location\":\"top_left\",\"click_policy\":\"hide\",\"items\":[{\"type\":\"object\",\"name\":\"LegendItem\",\"id\":\"p1244\",\"attributes\":{\"label\":{\"type\":\"value\",\"value\":\"Circle\"},\"renderers\":[{\"id\":\"p1240\"}]}},{\"type\":\"object\",\"name\":\"LegendItem\",\"id\":\"p1254\",\"attributes\":{\"label\":{\"type\":\"value\",\"value\":\"Square\"},\"renderers\":[{\"id\":\"p1251\"}]}},{\"type\":\"object\",\"name\":\"LegendItem\",\"id\":\"p1264\",\"attributes\":{\"label\":{\"type\":\"value\",\"value\":\"Line\"},\"renderers\":[{\"id\":\"p1261\"}]}}]}}]}}]}};\n",
              "  const render_items = [{\"docid\":\"dcc6d0e0-59e4-4734-b6f9-a00270430927\",\"roots\":{\"p1208\":\"aebdebc6-3d38-44cd-9b61-486c3cd703d7\"},\"root_ids\":[\"p1208\"]}];\n",
              "  root.Bokeh.embed.embed_items_notebook(docs_json, render_items);\n",
              "  }\n",
              "  if (root.Bokeh !== undefined) {\n",
              "    embed_document(root);\n",
              "  } else {\n",
              "    let attempts = 0;\n",
              "    const timer = setInterval(function(root) {\n",
              "      if (root.Bokeh !== undefined) {\n",
              "        clearInterval(timer);\n",
              "        embed_document(root);\n",
              "      } else {\n",
              "        attempts++;\n",
              "        if (attempts > 100) {\n",
              "          clearInterval(timer);\n",
              "          console.log(\"Bokeh: ERROR: Unable to run BokehJS code because BokehJS library is missing\");\n",
              "        }\n",
              "      }\n",
              "    }, 10, root)\n",
              "  }\n",
              "})(window);"
            ],
            "application/vnd.bokehjs_exec.v0+json": ""
          },
          "metadata": {
            "application/vnd.bokehjs_exec.v0+json": {
              "id": "p1208"
            }
          }
        }
      ]
    },
    {
      "cell_type": "markdown",
      "source": [
        "![Screenshot 2023-11-24 140739.png](data:image/png;base64,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)"
      ],
      "metadata": {
        "id": "OYqwdo-we5DS"
      }
    },
    {
      "cell_type": "markdown",
      "source": [
        "In this example:\n",
        "\n",
        "- circle, square, and line are glyphs added to the plot.\n",
        "- The x and y arrays specify the coordinates of the data points.\n",
        "- Various attributes like size, color, alpha (transparency), and legend_label are used to customize the appearance of the glyphs.\n",
        "- The legend attribute is used to add a legend to the plot.\n",
        "- The show function displays the plot."
      ],
      "metadata": {
        "id": "PyBsI5llWX4C"
      }
    },
    {
      "cell_type": "markdown",
      "source": [
        "### 3. How can you customize the appearance of a Bokeh plot, including the axes, title, and legend?"
      ],
      "metadata": {
        "id": "2bqdU23SWkMi"
      }
    },
    {
      "cell_type": "code",
      "source": [
        "from bokeh.plotting import figure, output_file, show\n",
        "\n",
        "# Sample data\n",
        "x = [1, 2, 3, 4, 5]\n",
        "y = [6, 7, 2, 4, 8]\n",
        "\n",
        "# Specify the output file (optional)\n",
        "output_file(\"customization_example.html\")\n",
        "\n",
        "# Create a Bokeh figure\n",
        "plot = figure(title=\"Customization Example\", tools=\"pan,box_zoom,reset\", width=500, height=400)\n",
        "\n",
        "# Add a circle glyph\n",
        "plot.circle(x, y, size=10, color=\"red\", alpha=0.8, legend_label=\"Circle\")\n",
        "\n",
        "# Customize plot appearance\n",
        "plot.title.text_color = \"navy\"\n",
        "plot.title.text_font_size = \"20pt\"\n",
        "plot.title.align = \"center\"\n",
        "\n",
        "plot.xaxis.axis_label = \"X-axis\"\n",
        "plot.yaxis.axis_label = \"Y-axis\"\n",
        "\n",
        "plot.xaxis.axis_label_text_color = \"green\"\n",
        "plot.yaxis.axis_label_text_color = \"purple\"\n",
        "\n",
        "plot.xaxis.major_label_text_color = \"blue\"\n",
        "plot.yaxis.major_label_text_color = \"orange\"\n",
        "\n",
        "plot.xaxis.axis_line_width = 2\n",
        "plot.yaxis.axis_line_width = 2\n",
        "\n",
        "plot.xaxis.major_tick_line_color = \"black\"\n",
        "plot.yaxis.major_tick_line_color = \"black\"\n",
        "\n",
        "plot.xaxis.minor_tick_line_color = \"gray\"\n",
        "plot.yaxis.minor_tick_line_color = \"gray\"\n",
        "\n",
        "plot.legend.location = \"top_left\"\n",
        "plot.legend.label_text_color = \"purple\"\n",
        "plot.legend.background_fill_color = \"lightyellow\"\n",
        "plot.legend.border_line_color = \"navy\"\n",
        "\n",
        "# Show the plot\n",
        "show(plot)"
      ],
      "metadata": {
        "colab": {
          "base_uri": "https://localhost:8080/",
          "height": 417
        },
        "id": "y2i0Y_lsWIqN",
        "outputId": "f28a3212-87f3-4413-ce8e-118fccf1c0c6"
      },
      "execution_count": 11,
      "outputs": [
        {
          "output_type": "display_data",
          "data": {
            "application/javascript": [
              "(function(root) {\n",
              "  function now() {\n",
              "    return new Date();\n",
              "  }\n",
              "\n",
              "  const force = true;\n",
              "\n",
              "  if (typeof root._bokeh_onload_callbacks === \"undefined\" || force === true) {\n",
              "    root._bokeh_onload_callbacks = [];\n",
              "    root._bokeh_is_loading = undefined;\n",
              "  }\n",
              "\n",
              "const JS_MIME_TYPE = 'application/javascript';\n",
              "  const HTML_MIME_TYPE = 'text/html';\n",
              "  const EXEC_MIME_TYPE = 'application/vnd.bokehjs_exec.v0+json';\n",
              "  const CLASS_NAME = 'output_bokeh rendered_html';\n",
              "\n",
              "  /**\n",
              "   * Render data to the DOM node\n",
              "   */\n",
              "  function render(props, node) {\n",
              "    const script = document.createElement(\"script\");\n",
              "    node.appendChild(script);\n",
              "  }\n",
              "\n",
              "  /**\n",
              "   * Handle when an output is cleared or removed\n",
              "   */\n",
              "  function handleClearOutput(event, handle) {\n",
              "    function drop(id) {\n",
              "      const view = Bokeh.index.get_by_id(id)\n",
              "      if (view != null) {\n",
              "        view.model.document.clear()\n",
              "        Bokeh.index.delete(view)\n",
              "      }\n",
              "    }\n",
              "\n",
              "    const cell = handle.cell;\n",
              "\n",
              "    const id = cell.output_area._bokeh_element_id;\n",
              "    const server_id = cell.output_area._bokeh_server_id;\n",
              "\n",
              "    // Clean up Bokeh references\n",
              "    if (id != null) {\n",
              "      drop(id)\n",
              "    }\n",
              "\n",
              "    if (server_id !== undefined) {\n",
              "      // Clean up Bokeh references\n",
              "      const cmd_clean = \"from bokeh.io.state import curstate; print(curstate().uuid_to_server['\" + server_id + \"'].get_sessions()[0].document.roots[0]._id)\";\n",
              "      cell.notebook.kernel.execute(cmd_clean, {\n",
              "        iopub: {\n",
              "          output: function(msg) {\n",
              "            const id = msg.content.text.trim()\n",
              "            drop(id)\n",
              "          }\n",
              "        }\n",
              "      });\n",
              "      // Destroy server and session\n",
              "      const cmd_destroy = \"import bokeh.io.notebook as ion; ion.destroy_server('\" + server_id + \"')\";\n",
              "      cell.notebook.kernel.execute(cmd_destroy);\n",
              "    }\n",
              "  }\n",
              "\n",
              "  /**\n",
              "   * Handle when a new output is added\n",
              "   */\n",
              "  function handleAddOutput(event, handle) {\n",
              "    const output_area = handle.output_area;\n",
              "    const output = handle.output;\n",
              "\n",
              "    // limit handleAddOutput to display_data with EXEC_MIME_TYPE content only\n",
              "    if ((output.output_type != \"display_data\") || (!Object.prototype.hasOwnProperty.call(output.data, EXEC_MIME_TYPE))) {\n",
              "      return\n",
              "    }\n",
              "\n",
              "    const toinsert = output_area.element.find(\".\" + CLASS_NAME.split(' ')[0]);\n",
              "\n",
              "    if (output.metadata[EXEC_MIME_TYPE][\"id\"] !== undefined) {\n",
              "      toinsert[toinsert.length - 1].firstChild.textContent = output.data[JS_MIME_TYPE];\n",
              "      // store reference to embed id on output_area\n",
              "      output_area._bokeh_element_id = output.metadata[EXEC_MIME_TYPE][\"id\"];\n",
              "    }\n",
              "    if (output.metadata[EXEC_MIME_TYPE][\"server_id\"] !== undefined) {\n",
              "      const bk_div = document.createElement(\"div\");\n",
              "      bk_div.innerHTML = output.data[HTML_MIME_TYPE];\n",
              "      const script_attrs = bk_div.children[0].attributes;\n",
              "      for (let i = 0; i < script_attrs.length; i++) {\n",
              "        toinsert[toinsert.length - 1].firstChild.setAttribute(script_attrs[i].name, script_attrs[i].value);\n",
              "        toinsert[toinsert.length - 1].firstChild.textContent = bk_div.children[0].textContent\n",
              "      }\n",
              "      // store reference to server id on output_area\n",
              "      output_area._bokeh_server_id = output.metadata[EXEC_MIME_TYPE][\"server_id\"];\n",
              "    }\n",
              "  }\n",
              "\n",
              "  function register_renderer(events, OutputArea) {\n",
              "\n",
              "    function append_mime(data, metadata, element) {\n",
              "      // create a DOM node to render to\n",
              "      const toinsert = this.create_output_subarea(\n",
              "        metadata,\n",
              "        CLASS_NAME,\n",
              "        EXEC_MIME_TYPE\n",
              "      );\n",
              "      this.keyboard_manager.register_events(toinsert);\n",
              "      // Render to node\n",
              "      const props = {data: data, metadata: metadata[EXEC_MIME_TYPE]};\n",
              "      render(props, toinsert[toinsert.length - 1]);\n",
              "      element.append(toinsert);\n",
              "      return toinsert\n",
              "    }\n",
              "\n",
              "    /* Handle when an output is cleared or removed */\n",
              "    events.on('clear_output.CodeCell', handleClearOutput);\n",
              "    events.on('delete.Cell', handleClearOutput);\n",
              "\n",
              "    /* Handle when a new output is added */\n",
              "    events.on('output_added.OutputArea', handleAddOutput);\n",
              "\n",
              "    /**\n",
              "     * Register the mime type and append_mime function with output_area\n",
              "     */\n",
              "    OutputArea.prototype.register_mime_type(EXEC_MIME_TYPE, append_mime, {\n",
              "      /* Is output safe? */\n",
              "      safe: true,\n",
              "      /* Index of renderer in `output_area.display_order` */\n",
              "      index: 0\n",
              "    });\n",
              "  }\n",
              "\n",
              "  // register the mime type if in Jupyter Notebook environment and previously unregistered\n",
              "  if (root.Jupyter !== undefined) {\n",
              "    const events = require('base/js/events');\n",
              "    const OutputArea = require('notebook/js/outputarea').OutputArea;\n",
              "\n",
              "    if (OutputArea.prototype.mime_types().indexOf(EXEC_MIME_TYPE) == -1) {\n",
              "      register_renderer(events, OutputArea);\n",
              "    }\n",
              "  }\n",
              "  if (typeof (root._bokeh_timeout) === \"undefined\" || force === true) {\n",
              "    root._bokeh_timeout = Date.now() + 5000;\n",
              "    root._bokeh_failed_load = false;\n",
              "  }\n",
              "\n",
              "  const NB_LOAD_WARNING = {'data': {'text/html':\n",
              "     \"<div style='background-color: #fdd'>\\n\"+\n",
              "     \"<p>\\n\"+\n",
              "     \"BokehJS does not appear to have successfully loaded. If loading BokehJS from CDN, this \\n\"+\n",
              "     \"may be due to a slow or bad network connection. Possible fixes:\\n\"+\n",
              "     \"</p>\\n\"+\n",
              "     \"<ul>\\n\"+\n",
              "     \"<li>re-rerun `output_notebook()` to attempt to load from CDN again, or</li>\\n\"+\n",
              "     \"<li>use INLINE resources instead, as so:</li>\\n\"+\n",
              "     \"</ul>\\n\"+\n",
              "     \"<code>\\n\"+\n",
              "     \"from bokeh.resources import INLINE\\n\"+\n",
              "     \"output_notebook(resources=INLINE)\\n\"+\n",
              "     \"</code>\\n\"+\n",
              "     \"</div>\"}};\n",
              "\n",
              "  function display_loaded() {\n",
              "    const el = document.getElementById(null);\n",
              "    if (el != null) {\n",
              "      el.textContent = \"BokehJS is loading...\";\n",
              "    }\n",
              "    if (root.Bokeh !== undefined) {\n",
              "      if (el != null) {\n",
              "        el.textContent = \"BokehJS \" + root.Bokeh.version + \" successfully loaded.\";\n",
              "      }\n",
              "    } else if (Date.now() < root._bokeh_timeout) {\n",
              "      setTimeout(display_loaded, 100)\n",
              "    }\n",
              "  }\n",
              "\n",
              "  function run_callbacks() {\n",
              "    try {\n",
              "      root._bokeh_onload_callbacks.forEach(function(callback) {\n",
              "        if (callback != null)\n",
              "          callback();\n",
              "      });\n",
              "    } finally {\n",
              "      delete root._bokeh_onload_callbacks\n",
              "    }\n",
              "    console.debug(\"Bokeh: all callbacks have finished\");\n",
              "  }\n",
              "\n",
              "  function load_libs(css_urls, js_urls, callback) {\n",
              "    if (css_urls == null) css_urls = [];\n",
              "    if (js_urls == null) js_urls = [];\n",
              "\n",
              "    root._bokeh_onload_callbacks.push(callback);\n",
              "    if (root._bokeh_is_loading > 0) {\n",
              "      console.debug(\"Bokeh: BokehJS is being loaded, scheduling callback at\", now());\n",
              "      return null;\n",
              "    }\n",
              "    if (js_urls == null || js_urls.length === 0) {\n",
              "      run_callbacks();\n",
              "      return null;\n",
              "    }\n",
              "    console.debug(\"Bokeh: BokehJS not loaded, scheduling load and callback at\", now());\n",
              "    root._bokeh_is_loading = css_urls.length + js_urls.length;\n",
              "\n",
              "    function on_load() {\n",
              "      root._bokeh_is_loading--;\n",
              "      if (root._bokeh_is_loading === 0) {\n",
              "        console.debug(\"Bokeh: all BokehJS libraries/stylesheets loaded\");\n",
              "        run_callbacks()\n",
              "      }\n",
              "    }\n",
              "\n",
              "    function on_error(url) {\n",
              "      console.error(\"failed to load \" + url);\n",
              "    }\n",
              "\n",
              "    for (let i = 0; i < css_urls.length; i++) {\n",
              "      const url = css_urls[i];\n",
              "      const element = document.createElement(\"link\");\n",
              "      element.onload = on_load;\n",
              "      element.onerror = on_error.bind(null, url);\n",
              "      element.rel = \"stylesheet\";\n",
              "      element.type = \"text/css\";\n",
              "      element.href = url;\n",
              "      console.debug(\"Bokeh: injecting link tag for BokehJS stylesheet: \", url);\n",
              "      document.body.appendChild(element);\n",
              "    }\n",
              "\n",
              "    for (let i = 0; i < js_urls.length; i++) {\n",
              "      const url = js_urls[i];\n",
              "      const element = document.createElement('script');\n",
              "      element.onload = on_load;\n",
              "      element.onerror = on_error.bind(null, url);\n",
              "      element.async = false;\n",
              "      element.src = url;\n",
              "      console.debug(\"Bokeh: injecting script tag for BokehJS library: \", url);\n",
              "      document.head.appendChild(element);\n",
              "    }\n",
              "  };\n",
              "\n",
              "  function inject_raw_css(css) {\n",
              "    const element = document.createElement(\"style\");\n",
              "    element.appendChild(document.createTextNode(css));\n",
              "    document.body.appendChild(element);\n",
              "  }\n",
              "\n",
              "  const js_urls = [\"https://cdn.bokeh.org/bokeh/release/bokeh-3.3.1.min.js\", \"https://cdn.bokeh.org/bokeh/release/bokeh-gl-3.3.1.min.js\", \"https://cdn.bokeh.org/bokeh/release/bokeh-widgets-3.3.1.min.js\", \"https://cdn.bokeh.org/bokeh/release/bokeh-tables-3.3.1.min.js\", \"https://cdn.bokeh.org/bokeh/release/bokeh-mathjax-3.3.1.min.js\"];\n",
              "  const css_urls = [];\n",
              "\n",
              "  const inline_js = [    function(Bokeh) {\n",
              "      Bokeh.set_log_level(\"info\");\n",
              "    },\n",
              "function(Bokeh) {\n",
              "    }\n",
              "  ];\n",
              "\n",
              "  function run_inline_js() {\n",
              "    if (root.Bokeh !== undefined || force === true) {\n",
              "          for (let i = 0; i < inline_js.length; i++) {\n",
              "      inline_js[i].call(root, root.Bokeh);\n",
              "    }\n",
              "} else if (Date.now() < root._bokeh_timeout) {\n",
              "      setTimeout(run_inline_js, 100);\n",
              "    } else if (!root._bokeh_failed_load) {\n",
              "      console.log(\"Bokeh: BokehJS failed to load within specified timeout.\");\n",
              "      root._bokeh_failed_load = true;\n",
              "    } else if (force !== true) {\n",
              "      const cell = $(document.getElementById(null)).parents('.cell').data().cell;\n",
              "      cell.output_area.append_execute_result(NB_LOAD_WARNING)\n",
              "    }\n",
              "  }\n",
              "\n",
              "  if (root._bokeh_is_loading === 0) {\n",
              "    console.debug(\"Bokeh: BokehJS loaded, going straight to plotting\");\n",
              "    run_inline_js();\n",
              "  } else {\n",
              "    load_libs(css_urls, js_urls, function() {\n",
              "      console.debug(\"Bokeh: BokehJS plotting callback run at\", now());\n",
              "      run_inline_js();\n",
              "    });\n",
              "  }\n",
              "}(window));"
            ],
            "application/vnd.bokehjs_load.v0+json": "(function(root) {\n  function now() {\n    return new Date();\n  }\n\n  const force = true;\n\n  if (typeof root._bokeh_onload_callbacks === \"undefined\" || force === true) {\n    root._bokeh_onload_callbacks = [];\n    root._bokeh_is_loading = undefined;\n  }\n\n\n  if (typeof (root._bokeh_timeout) === \"undefined\" || force === true) {\n    root._bokeh_timeout = Date.now() + 5000;\n    root._bokeh_failed_load = false;\n  }\n\n  const NB_LOAD_WARNING = {'data': {'text/html':\n     \"<div style='background-color: #fdd'>\\n\"+\n     \"<p>\\n\"+\n     \"BokehJS does not appear to have successfully loaded. If loading BokehJS from CDN, this \\n\"+\n     \"may be due to a slow or bad network connection. Possible fixes:\\n\"+\n     \"</p>\\n\"+\n     \"<ul>\\n\"+\n     \"<li>re-rerun `output_notebook()` to attempt to load from CDN again, or</li>\\n\"+\n     \"<li>use INLINE resources instead, as so:</li>\\n\"+\n     \"</ul>\\n\"+\n     \"<code>\\n\"+\n     \"from bokeh.resources import INLINE\\n\"+\n     \"output_notebook(resources=INLINE)\\n\"+\n     \"</code>\\n\"+\n     \"</div>\"}};\n\n  function display_loaded() {\n    const el = document.getElementById(null);\n    if (el != null) {\n      el.textContent = \"BokehJS is loading...\";\n    }\n    if (root.Bokeh !== undefined) {\n      if (el != null) {\n        el.textContent = \"BokehJS \" + root.Bokeh.version + \" successfully loaded.\";\n      }\n    } else if (Date.now() < root._bokeh_timeout) {\n      setTimeout(display_loaded, 100)\n    }\n  }\n\n  function run_callbacks() {\n    try {\n      root._bokeh_onload_callbacks.forEach(function(callback) {\n        if (callback != null)\n          callback();\n      });\n    } finally {\n      delete root._bokeh_onload_callbacks\n    }\n    console.debug(\"Bokeh: all callbacks have finished\");\n  }\n\n  function load_libs(css_urls, js_urls, callback) {\n    if (css_urls == null) css_urls = [];\n    if (js_urls == null) js_urls = [];\n\n    root._bokeh_onload_callbacks.push(callback);\n    if (root._bokeh_is_loading > 0) {\n      console.debug(\"Bokeh: BokehJS is being loaded, scheduling callback at\", now());\n      return null;\n    }\n    if (js_urls == null || js_urls.length === 0) {\n      run_callbacks();\n      return null;\n    }\n    console.debug(\"Bokeh: BokehJS not loaded, scheduling load and callback at\", now());\n    root._bokeh_is_loading = css_urls.length + js_urls.length;\n\n    function on_load() {\n      root._bokeh_is_loading--;\n      if (root._bokeh_is_loading === 0) {\n        console.debug(\"Bokeh: all BokehJS libraries/stylesheets loaded\");\n        run_callbacks()\n      }\n    }\n\n    function on_error(url) {\n      console.error(\"failed to load \" + url);\n    }\n\n    for (let i = 0; i < css_urls.length; i++) {\n      const url = css_urls[i];\n      const element = document.createElement(\"link\");\n      element.onload = on_load;\n      element.onerror = on_error.bind(null, url);\n      element.rel = \"stylesheet\";\n      element.type = \"text/css\";\n      element.href = url;\n      console.debug(\"Bokeh: injecting link tag for BokehJS stylesheet: \", url);\n      document.body.appendChild(element);\n    }\n\n    for (let i = 0; i < js_urls.length; i++) {\n      const url = js_urls[i];\n      const element = document.createElement('script');\n      element.onload = on_load;\n      element.onerror = on_error.bind(null, url);\n      element.async = false;\n      element.src = url;\n      console.debug(\"Bokeh: injecting script tag for BokehJS library: \", url);\n      document.head.appendChild(element);\n    }\n  };\n\n  function inject_raw_css(css) {\n    const element = document.createElement(\"style\");\n    element.appendChild(document.createTextNode(css));\n    document.body.appendChild(element);\n  }\n\n  const js_urls = [\"https://cdn.bokeh.org/bokeh/release/bokeh-3.3.1.min.js\", \"https://cdn.bokeh.org/bokeh/release/bokeh-gl-3.3.1.min.js\", \"https://cdn.bokeh.org/bokeh/release/bokeh-widgets-3.3.1.min.js\", \"https://cdn.bokeh.org/bokeh/release/bokeh-tables-3.3.1.min.js\", \"https://cdn.bokeh.org/bokeh/release/bokeh-mathjax-3.3.1.min.js\"];\n  const css_urls = [];\n\n  const inline_js = [    function(Bokeh) {\n      Bokeh.set_log_level(\"info\");\n    },\nfunction(Bokeh) {\n    }\n  ];\n\n  function run_inline_js() {\n    if (root.Bokeh !== undefined || force === true) {\n          for (let i = 0; i < inline_js.length; i++) {\n      inline_js[i].call(root, root.Bokeh);\n    }\n} else if (Date.now() < root._bokeh_timeout) {\n      setTimeout(run_inline_js, 100);\n    } else if (!root._bokeh_failed_load) {\n      console.log(\"Bokeh: BokehJS failed to load within specified timeout.\");\n      root._bokeh_failed_load = true;\n    } else if (force !== true) {\n      const cell = $(document.getElementById(null)).parents('.cell').data().cell;\n      cell.output_area.append_execute_result(NB_LOAD_WARNING)\n    }\n  }\n\n  if (root._bokeh_is_loading === 0) {\n    console.debug(\"Bokeh: BokehJS loaded, going straight to plotting\");\n    run_inline_js();\n  } else {\n    load_libs(css_urls, js_urls, function() {\n      console.debug(\"Bokeh: BokehJS plotting callback run at\", now());\n      run_inline_js();\n    });\n  }\n}(window));"
          },
          "metadata": {}
        },
        {
          "output_type": "display_data",
          "data": {
            "text/html": [
              "\n",
              "  <div id=\"aef54ee6-e040-4669-bfad-f7763918fbd1\" data-root-id=\"p1266\" style=\"display: contents;\"></div>\n"
            ]
          },
          "metadata": {}
        },
        {
          "output_type": "display_data",
          "data": {
            "application/javascript": [
              "(function(root) {\n",
              "  function embed_document(root) {\n",
              "  const docs_json = {\"20d546bd-62aa-4388-b7d4-60ffd8f5d0e9\":{\"version\":\"3.3.1\",\"title\":\"Bokeh Application\",\"roots\":[{\"type\":\"object\",\"name\":\"Figure\",\"id\":\"p1266\",\"attributes\":{\"width\":500,\"height\":400,\"x_range\":{\"type\":\"object\",\"name\":\"DataRange1d\",\"id\":\"p1267\"},\"y_range\":{\"type\":\"object\",\"name\":\"DataRange1d\",\"id\":\"p1268\"},\"x_scale\":{\"type\":\"object\",\"name\":\"LinearScale\",\"id\":\"p1276\"},\"y_scale\":{\"type\":\"object\",\"name\":\"LinearScale\",\"id\":\"p1277\"},\"title\":{\"type\":\"object\",\"name\":\"Title\",\"id\":\"p1269\",\"attributes\":{\"text\":\"Customization Example\",\"text_color\":\"navy\",\"text_font_size\":\"20pt\",\"align\":\"center\"}},\"renderers\":[{\"type\":\"object\",\"name\":\"GlyphRenderer\",\"id\":\"p1298\",\"attributes\":{\"data_source\":{\"type\":\"object\",\"name\":\"ColumnDataSource\",\"id\":\"p1292\",\"attributes\":{\"selected\":{\"type\":\"object\",\"name\":\"Selection\",\"id\":\"p1293\",\"attributes\":{\"indices\":[],\"line_indices\":[]}},\"selection_policy\":{\"type\":\"object\",\"name\":\"UnionRenderers\",\"id\":\"p1294\"},\"data\":{\"type\":\"map\",\"entries\":[[\"x\",[1,2,3,4,5]],[\"y\",[6,7,2,4,8]]]}}},\"view\":{\"type\":\"object\",\"name\":\"CDSView\",\"id\":\"p1299\",\"attributes\":{\"filter\":{\"type\":\"object\",\"name\":\"AllIndices\",\"id\":\"p1300\"}}},\"glyph\":{\"type\":\"object\",\"name\":\"Circle\",\"id\":\"p1295\",\"attributes\":{\"x\":{\"type\":\"field\",\"field\":\"x\"},\"y\":{\"type\":\"field\",\"field\":\"y\"},\"size\":{\"type\":\"value\",\"value\":10},\"line_color\":{\"type\":\"value\",\"value\":\"red\"},\"line_alpha\":{\"type\":\"value\",\"value\":0.8},\"fill_color\":{\"type\":\"value\",\"value\":\"red\"},\"fill_alpha\":{\"type\":\"value\",\"value\":0.8},\"hatch_color\":{\"type\":\"value\",\"value\":\"red\"},\"hatch_alpha\":{\"type\":\"value\",\"value\":0.8}}},\"nonselection_glyph\":{\"type\":\"object\",\"name\":\"Circle\",\"id\":\"p1296\",\"attributes\":{\"x\":{\"type\":\"field\",\"field\":\"x\"},\"y\":{\"type\":\"field\",\"field\":\"y\"},\"size\":{\"type\":\"value\",\"value\":10},\"line_color\":{\"type\":\"value\",\"value\":\"red\"},\"line_alpha\":{\"type\":\"value\",\"value\":0.1},\"fill_color\":{\"type\":\"value\",\"value\":\"red\"},\"fill_alpha\":{\"type\":\"value\",\"value\":0.1},\"hatch_color\":{\"type\":\"value\",\"value\":\"red\"},\"hatch_alpha\":{\"type\":\"value\",\"value\":0.1}}},\"muted_glyph\":{\"type\":\"object\",\"name\":\"Circle\",\"id\":\"p1297\",\"attributes\":{\"x\":{\"type\":\"field\",\"field\":\"x\"},\"y\":{\"type\":\"field\",\"field\":\"y\"},\"size\":{\"type\":\"value\",\"value\":10},\"line_color\":{\"type\":\"value\",\"value\":\"red\"},\"line_alpha\":{\"type\":\"value\",\"value\":0.2},\"fill_color\":{\"type\":\"value\",\"value\":\"red\"},\"fill_alpha\":{\"type\":\"value\",\"value\":0.2},\"hatch_color\":{\"type\":\"value\",\"value\":\"red\"},\"hatch_alpha\":{\"type\":\"value\",\"value\":0.2}}}}}],\"toolbar\":{\"type\":\"object\",\"name\":\"Toolbar\",\"id\":\"p1275\",\"attributes\":{\"tools\":[{\"type\":\"object\",\"name\":\"PanTool\",\"id\":\"p1288\"},{\"type\":\"object\",\"name\":\"BoxZoomTool\",\"id\":\"p1289\",\"attributes\":{\"overlay\":{\"type\":\"object\",\"name\":\"BoxAnnotation\",\"id\":\"p1290\",\"attributes\":{\"syncable\":false,\"level\":\"overlay\",\"visible\":false,\"left_units\":\"canvas\",\"right_units\":\"canvas\",\"top_units\":\"canvas\",\"bottom_units\":\"canvas\",\"line_color\":\"black\",\"line_alpha\":1.0,\"line_width\":2,\"line_dash\":[4,4],\"fill_color\":\"lightgrey\",\"fill_alpha\":0.5}}}},{\"type\":\"object\",\"name\":\"ResetTool\",\"id\":\"p1291\"}]}},\"left\":[{\"type\":\"object\",\"name\":\"LinearAxis\",\"id\":\"p1283\",\"attributes\":{\"ticker\":{\"type\":\"object\",\"name\":\"BasicTicker\",\"id\":\"p1284\",\"attributes\":{\"mantissas\":[1,2,5]}},\"formatter\":{\"type\":\"object\",\"name\":\"BasicTickFormatter\",\"id\":\"p1285\"},\"axis_label\":\"Y-axis\",\"axis_label_text_color\":\"purple\",\"major_label_policy\":{\"type\":\"object\",\"name\":\"AllLabels\",\"id\":\"p1286\"},\"major_label_text_color\":\"orange\",\"axis_line_width\":2,\"minor_tick_line_color\":\"gray\"}}],\"below\":[{\"type\":\"object\",\"name\":\"LinearAxis\",\"id\":\"p1278\",\"attributes\":{\"ticker\":{\"type\":\"object\",\"name\":\"BasicTicker\",\"id\":\"p1279\",\"attributes\":{\"mantissas\":[1,2,5]}},\"formatter\":{\"type\":\"object\",\"name\":\"BasicTickFormatter\",\"id\":\"p1280\"},\"axis_label\":\"X-axis\",\"axis_label_text_color\":\"green\",\"major_label_policy\":{\"type\":\"object\",\"name\":\"AllLabels\",\"id\":\"p1281\"},\"major_label_text_color\":\"blue\",\"axis_line_width\":2,\"minor_tick_line_color\":\"gray\"}}],\"center\":[{\"type\":\"object\",\"name\":\"Grid\",\"id\":\"p1282\",\"attributes\":{\"axis\":{\"id\":\"p1278\"}}},{\"type\":\"object\",\"name\":\"Grid\",\"id\":\"p1287\",\"attributes\":{\"dimension\":1,\"axis\":{\"id\":\"p1283\"}}},{\"type\":\"object\",\"name\":\"Legend\",\"id\":\"p1301\",\"attributes\":{\"location\":\"top_left\",\"border_line_color\":\"navy\",\"background_fill_color\":\"lightyellow\",\"label_text_color\":\"purple\",\"items\":[{\"type\":\"object\",\"name\":\"LegendItem\",\"id\":\"p1302\",\"attributes\":{\"label\":{\"type\":\"value\",\"value\":\"Circle\"},\"renderers\":[{\"id\":\"p1298\"}]}}]}}]}}]}};\n",
              "  const render_items = [{\"docid\":\"20d546bd-62aa-4388-b7d4-60ffd8f5d0e9\",\"roots\":{\"p1266\":\"aef54ee6-e040-4669-bfad-f7763918fbd1\"},\"root_ids\":[\"p1266\"]}];\n",
              "  root.Bokeh.embed.embed_items_notebook(docs_json, render_items);\n",
              "  }\n",
              "  if (root.Bokeh !== undefined) {\n",
              "    embed_document(root);\n",
              "  } else {\n",
              "    let attempts = 0;\n",
              "    const timer = setInterval(function(root) {\n",
              "      if (root.Bokeh !== undefined) {\n",
              "        clearInterval(timer);\n",
              "        embed_document(root);\n",
              "      } else {\n",
              "        attempts++;\n",
              "        if (attempts > 100) {\n",
              "          clearInterval(timer);\n",
              "          console.log(\"Bokeh: ERROR: Unable to run BokehJS code because BokehJS library is missing\");\n",
              "        }\n",
              "      }\n",
              "    }, 10, root)\n",
              "  }\n",
              "})(window);"
            ],
            "application/vnd.bokehjs_exec.v0+json": ""
          },
          "metadata": {
            "application/vnd.bokehjs_exec.v0+json": {
              "id": "p1266"
            }
          }
        }
      ]
    },
    {
      "cell_type": "markdown",
      "source": [
        "![Screenshot 2023-11-24 140756.png](data:image/png;base64,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)"
      ],
      "metadata": {
        "id": "HHfua1LefUaD"
      }
    },
    {
      "cell_type": "markdown",
      "source": [
        "In this example:\n",
        "\n",
        "title, axis_label, axis_label_text_color, axis_line_width, major_tick_line_color, minor_tick_line_color, legend, and more attributes are used to customize different aspects of the plot."
      ],
      "metadata": {
        "id": "uQPxR39NW2PS"
      }
    },
    {
      "cell_type": "markdown",
      "source": [
        "### 4. What is a Bokeh server, and how can you use it to create interactive plots that can be updated in real time?"
      ],
      "metadata": {
        "id": "DR_o7NHiW75J"
      }
    },
    {
      "cell_type": "markdown",
      "source": [
        "Bokeh Server is a component of the Bokeh library that allows for the creation of interactive web applications with real-time updates. Unlike static plots, where the entire plot is generated and sent to the browser in one go, Bokeh Server enables the creation of dynamic, interactive applications where the plot updates are synchronized between the server and the client in real-time.\n",
        "\n",
        "Here's an outline of how you can use Bokeh Server to create interactive plots that can be updated in real time:"
      ],
      "metadata": {
        "id": "1U3hDibxXE16"
      }
    },
    {
      "cell_type": "markdown",
      "source": [
        "1. Create a Bokeh Server Script:\n",
        "Create a Python script (e.g., app.py) that defines the Bokeh plot and the update logic.\n",
        "\n",
        "Example:"
      ],
      "metadata": {
        "id": "RwcMvXRPXRD5"
      }
    },
    {
      "cell_type": "code",
      "source": [
        "# app.py\n",
        "from bokeh.plotting import figure, curdoc\n",
        "from bokeh.models import ColumnDataSource\n",
        "from bokeh.layouts import column\n",
        "import numpy as np\n",
        "\n",
        "# Create a figure and a data source\n",
        "plot = figure(width=600, height=400, title=\"Real-Time Plot\")\n",
        "source = ColumnDataSource(data=dict(x=[], y=[]))\n",
        "\n",
        "# Add a line glyph to the plot\n",
        "line = plot.line(x='x', y='y', source=source, line_width=2, line_color='blue')\n",
        "\n",
        "# Function to update the data source\n",
        "def update():\n",
        "    new_data = dict(x=np.arange(10), y=np.random.random(10))\n",
        "    source.data = new_data\n",
        "\n",
        "# Add a periodic callback to update the plot every 1000 milliseconds (1 second)\n",
        "curdoc().add_periodic_callback(update, 1000)\n",
        "\n",
        "# Add the plot to the current document\n",
        "curdoc().add_root(column(plot))"
      ],
      "metadata": {
        "id": "n9VEXLwiWurG"
      },
      "execution_count": 12,
      "outputs": []
    },
    {
      "cell_type": "markdown",
      "source": [
        "2. Run the Bokeh Server:\n",
        "Open a terminal and navigate to the directory containing app.py. Run the Bokeh Server with:\n",
        "'''\n",
        "bokeh serve --show app.py\n",
        "'''\n",
        "\n",
        "This will launch the Bokeh Server and open the interactive plot in your default web browser.\n"
      ],
      "metadata": {
        "id": "2ZzbpW2rXaaT"
      }
    },
    {
      "cell_type": "markdown",
      "source": [
        "3. Interact with the Real-Time Plot:\n",
        "The plot will update in real-time, with new data generated every second. You can stop the Bokeh Server by closing the browser window or interrupting the server process.\n",
        "\n",
        "Bokeh Server allows for more complex interactions, including handling user input, custom callbacks, and more. It's a powerful tool for creating dynamic and interactive data visualization applications."
      ],
      "metadata": {
        "id": "wO9DiyaDXwzp"
      }
    },
    {
      "cell_type": "markdown",
      "source": [
        "### 5.  How can you embed a Bokeh plot into a web page or dashboard using Flask or Django?"
      ],
      "metadata": {
        "id": "8OFww2u5X75x"
      }
    },
    {
      "cell_type": "markdown",
      "source": [
        "Embedding a Bokeh plot into a web page or integrating it into a web framework like Flask or Django involves using the Bokeh components module to generate the HTML and JavaScript components needed to render the plot. Here are examples for both Flask and Django:"
      ],
      "metadata": {
        "id": "NW8O5Sm-YIw6"
      }
    },
    {
      "cell_type": "markdown",
      "source": [
        "### FLask"
      ],
      "metadata": {
        "id": "sUV4bTowaEaR"
      }
    },
    {
      "cell_type": "markdown",
      "source": [
        "1. Install Flask and Bokeh using :  '!pip install Flask bokeh'"
      ],
      "metadata": {
        "id": "F3Tuu1IyYZJT"
      }
    },
    {
      "cell_type": "markdown",
      "source": [
        "2. Create a Flask App:\n",
        "\n",
        "Create a file named app.py:"
      ],
      "metadata": {
        "id": "gYq4rCkzYmqm"
      }
    },
    {
      "cell_type": "code",
      "source": [
        "from flask import Flask, render_template\n",
        "from bokeh.plotting import figure\n",
        "from bokeh.embed import components\n",
        "import numpy as np\n",
        "\n",
        "app = Flask(__name__)\n",
        "\n",
        "@app.route('/')\n",
        "def index():\n",
        "    # Create a Bokeh plot\n",
        "    x = np.linspace(0, 4 * np.pi, 100)\n",
        "    y = np.sin(x)\n",
        "    plot = figure(title=\"Sine Wave\", plot_width=400, plot_height=400)\n",
        "    plot.line(x, y, line_width=2)\n",
        "\n",
        "    # Generate Bokeh components\n",
        "    script, div = components(plot)\n",
        "\n",
        "    # Render the HTML template with the Bokeh components\n",
        "    return render_template('index.html', script=script, div=div)\n",
        "\n",
        "if __name__ == '__main__':\n",
        "    app.run(debug=True)"
      ],
      "metadata": {
        "colab": {
          "base_uri": "https://localhost:8080/"
        },
        "id": "JS8kHGtKYorK",
        "outputId": "b307da35-6d50-422b-f41e-da5558a4f69c"
      },
      "execution_count": 13,
      "outputs": [
        {
          "output_type": "stream",
          "name": "stdout",
          "text": [
            " * Serving Flask app '__main__'\n",
            " * Debug mode: on\n"
          ]
        },
        {
          "output_type": "stream",
          "name": "stderr",
          "text": [
            "INFO:werkzeug:\u001b[31m\u001b[1mWARNING: This is a development server. Do not use it in a production deployment. Use a production WSGI server instead.\u001b[0m\n",
            " * Running on http://127.0.0.1:5000\n",
            "INFO:werkzeug:\u001b[33mPress CTRL+C to quit\u001b[0m\n",
            "INFO:werkzeug: * Restarting with stat\n"
          ]
        }
      ]
    },
    {
      "cell_type": "markdown",
      "source": [
        "3. Create HTML Template (templates/index.html):"
      ],
      "metadata": {
        "id": "ayei0ak-Y8Dr"
      }
    },
    {
      "cell_type": "code",
      "source": [
        "<!DOCTYPE html>\n",
        "<html lang=\"en\">\n",
        "<head>\n",
        "    <meta charset=\"UTF-8\">\n",
        "    <meta name=\"viewport\" content=\"width=device-width, initial-scale=1.0\">\n",
        "    <title>Bokeh Plot in Flask</title>\n",
        "    {{ script|safe }}\n",
        "</head>\n",
        "<body>\n",
        "    <h1>Bokeh Plot in Flask</h1>\n",
        "    {{ div|safe }}\n",
        "</body>\n",
        "</html>"
      ],
      "metadata": {
        "id": "AjpArzrcZubp"
      },
      "execution_count": null,
      "outputs": []
    },
    {
      "cell_type": "markdown",
      "source": [
        "4. Run the Flask App:"
      ],
      "metadata": {
        "id": "CuhavDY9Zldp"
      }
    },
    {
      "cell_type": "code",
      "source": [
        "python app.py"
      ],
      "metadata": {
        "id": "ElQjmOQMZfM2"
      },
      "execution_count": null,
      "outputs": []
    },
    {
      "cell_type": "markdown",
      "source": [
        "### Django"
      ],
      "metadata": {
        "id": "TGhyLp_SaKMh"
      }
    },
    {
      "cell_type": "markdown",
      "source": [
        "1. Install Django and Bokeh:"
      ],
      "metadata": {
        "id": "IPtALrqKaSP7"
      }
    },
    {
      "cell_type": "code",
      "source": [
        "### bash\n",
        "\n",
        "pip install Django bokeh"
      ],
      "metadata": {
        "id": "GM11oPjOaNj1"
      },
      "execution_count": null,
      "outputs": []
    },
    {
      "cell_type": "markdown",
      "source": [
        "2. Create a Django Project and App:"
      ],
      "metadata": {
        "id": "Vjmc0LViaW1H"
      }
    },
    {
      "cell_type": "code",
      "source": [
        "### bash\n",
        "\n",
        "django-admin startproject bokeh_django\n",
        "cd bokeh_django\n",
        "python manage.py startapp plot_app"
      ],
      "metadata": {
        "id": "vKUItV7BaZxW"
      },
      "execution_count": null,
      "outputs": []
    },
    {
      "cell_type": "markdown",
      "source": [
        "3. Modify plot_app/views.py:"
      ],
      "metadata": {
        "id": "_32vVzDQajlQ"
      }
    },
    {
      "cell_type": "code",
      "source": [
        "from django.shortcuts import render\n",
        "from bokeh.plotting import figure\n",
        "from bokeh.embed import components\n",
        "from django.http import HttpResponse\n",
        "import numpy as np\n",
        "\n",
        "def index(request):\n",
        "    # Create a Bokeh plot\n",
        "    x = np.linspace(0, 4 * np.pi, 100)\n",
        "    y = np.sin(x)\n",
        "    plot = figure(title=\"Sine Wave\", plot_width=400, plot_height=400)\n",
        "    plot.line(x, y, line_width=2)\n",
        "\n",
        "    # Generate Bokeh components\n",
        "    script, div = components(plot)\n",
        "\n",
        "    # Render the HTML template with the Bokeh components\n",
        "    return render(request, 'plot_app/index.html', {'script': script, 'div': div})"
      ],
      "metadata": {
        "id": "E6aLQ7XjaqYa"
      },
      "execution_count": null,
      "outputs": []
    },
    {
      "cell_type": "markdown",
      "source": [
        "4. Modify plot_app/urls.py:"
      ],
      "metadata": {
        "id": "Yimxzri7avIu"
      }
    },
    {
      "cell_type": "code",
      "source": [
        "from django.urls import path\n",
        "from .views import index\n",
        "\n",
        "urlpatterns = [\n",
        "    path('', index, name='index'),\n",
        "]"
      ],
      "metadata": {
        "id": "cYQOGmqGayjd"
      },
      "execution_count": null,
      "outputs": []
    },
    {
      "cell_type": "markdown",
      "source": [
        "5. Modify bokeh_django/urls.py:"
      ],
      "metadata": {
        "id": "AzuQ9ZtFa2WF"
      }
    },
    {
      "cell_type": "code",
      "source": [
        "from django.contrib import admin\n",
        "from django.urls import path, include\n",
        "\n",
        "urlpatterns = [\n",
        "    path('admin/', admin.site.urls),\n",
        "    path('', include('plot_app.urls')),\n",
        "]"
      ],
      "metadata": {
        "id": "4WE70XRia4JY"
      },
      "execution_count": null,
      "outputs": []
    },
    {
      "cell_type": "markdown",
      "source": [
        "6. Create HTML Template (plot_app/templates/plot_app/index.html):"
      ],
      "metadata": {
        "id": "5DAxLLtEa8bX"
      }
    },
    {
      "cell_type": "code",
      "source": [
        "### html\n",
        "\n",
        "<!DOCTYPE html>\n",
        "<html lang=\"en\">\n",
        "<head>\n",
        "    <meta charset=\"UTF-8\">\n",
        "    <meta name=\"viewport\" content=\"width=device-width, initial-scale=1.0\">\n",
        "    <title>Bokeh Plot in Django</title>\n",
        "    {{ script|safe }}\n",
        "</head>\n",
        "<body>\n",
        "    <h1>Bokeh Plot in Django</h1>\n",
        "    {{ div|safe }}\n",
        "</body>\n",
        "</html>"
      ],
      "metadata": {
        "id": "fQEGqtyUa9tT"
      },
      "execution_count": null,
      "outputs": []
    },
    {
      "cell_type": "markdown",
      "source": [
        "7. Run the Django Development Server:"
      ],
      "metadata": {
        "id": "I66d2u2bbPz0"
      }
    },
    {
      "cell_type": "code",
      "source": [
        "###bash\n",
        "\n",
        "python manage.py runserver"
      ],
      "metadata": {
        "id": "eeSd0dr6bRSy"
      },
      "execution_count": null,
      "outputs": []
    }
  ]
}