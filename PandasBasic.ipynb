{
 "cells": [
  {
   "cell_type": "markdown",
   "id": "72a5b10b-5f5d-4f41-8798-0dc5bf5d91c7",
   "metadata": {},
   "source": [
    "# Pandas Basic"
   ]
  },
  {
   "cell_type": "markdown",
   "id": "ab53c77c-8a3c-423d-815f-4b931acfe421",
   "metadata": {},
   "source": [
    "### 1. Create a Pandas Series that contains the following data: 4, 8, 15, 16, 23, and 42. Then, print the series."
   ]
  },
  {
   "cell_type": "code",
   "execution_count": 1,
   "id": "20dd7768-c1bc-45a1-a6fa-36288e820905",
   "metadata": {},
   "outputs": [
    {
     "name": "stdout",
     "output_type": "stream",
     "text": [
      "0     4\n",
      "1     8\n",
      "2    15\n",
      "3    16\n",
      "4    23\n",
      "5    42\n",
      "dtype: int64\n"
     ]
    }
   ],
   "source": [
    "import pandas as pd\n",
    "\n",
    "data = [4, 8, 15, 16, 23, 42]\n",
    "my_series = pd.Series(data)\n",
    "\n",
    "print(my_series)"
   ]
  },
  {
   "cell_type": "markdown",
   "id": "bff783c8-5d6e-401f-b947-8062d5e062bc",
   "metadata": {},
   "source": [
    "### 2. Create a variable of list type containing 10 elements in it, and apply pandas.Series function on the variable print it."
   ]
  },
  {
   "cell_type": "code",
   "execution_count": 2,
   "id": "82d6bb42-5feb-47bb-858d-5200e3c2e4e6",
   "metadata": {},
   "outputs": [
    {
     "name": "stdout",
     "output_type": "stream",
     "text": [
      "0     1\n",
      "1     2\n",
      "2     3\n",
      "3     4\n",
      "4     5\n",
      "5     6\n",
      "6     7\n",
      "7     8\n",
      "8     9\n",
      "9    10\n",
      "dtype: int64\n"
     ]
    }
   ],
   "source": [
    "import pandas as pd\n",
    "\n",
    "my_list = [1, 2, 3, 4, 5, 6, 7, 8, 9, 10]\n",
    "my_series_from_list = pd.Series(my_list)\n",
    "\n",
    "print(my_series_from_list)"
   ]
  },
  {
   "attachments": {
    "1c721c66-e77a-41bb-8ab5-ae3634888c62.png": {
     "image/png": "[encoded data removed]"
    }
   },
   "cell_type": "markdown",
   "id": "245dbb74-6e3e-472c-b7d6-a72dda138ac8",
   "metadata": {},
   "source": [
    "### 3. Create a Pandas DataFrame that contains the following data:\n",
    "\n",
    "![Screenshot 2023-11-09 114952.png](attachment:1c721c66-e77a-41bb-8ab5-ae3634888c62.png)\n",
    "\n",
    "Then, print the DataFrame."
   ]
  },
  {
   "cell_type": "code",
   "execution_count": 4,
   "id": "7de004bd-0150-4f55-aa1f-2eb768749727",
   "metadata": {},
   "outputs": [
    {
     "name": "stdout",
     "output_type": "stream",
     "text": [
      "     Name  Age  Gender\n",
      "0   Alice   25  Female\n",
      "1     Bob   30    Male\n",
      "2  Claire   27  Female\n"
     ]
    }
   ],
   "source": [
    "import pandas as pd\n",
    "\n",
    "data = {\n",
    "    'Name': ['Alice', 'Bob', 'Claire'],\n",
    "    'Age': [25, 30, 27],\n",
    "    'Gender': ['Female', 'Male', 'Female']\n",
    "}\n",
    "\n",
    "my_dataframe = pd.DataFrame(data)\n",
    "\n",
    "print(my_dataframe)"
   ]
  },
  {
   "cell_type": "markdown",
   "id": "1894e45f-ec34-41a6-a1d6-135893ab0561",
   "metadata": {},
   "source": [
    "### 4. What is ‘DataFrame’ in pandas and how is it different from pandas.series? Explain with an example."
   ]
  },
  {
   "cell_type": "code",
   "execution_count": 5,
   "id": "5558e7ae-b898-408c-81c7-f24e595692f3",
   "metadata": {},
   "outputs": [
    {
     "name": "stdout",
     "output_type": "stream",
     "text": [
      "Series:\n",
      "0    1\n",
      "1    2\n",
      "2    3\n",
      "3    4\n",
      "Name: Numbers, dtype: int64\n",
      "\n",
      "DataFrame:\n",
      "   Numbers\n",
      "0        1\n",
      "1        2\n",
      "2        3\n",
      "3        4\n"
     ]
    }
   ],
   "source": [
    "import pandas as pd\n",
    "\n",
    "# Creating a Series\n",
    "series_data = pd.Series([1, 2, 3, 4], name='Numbers')\n",
    "\n",
    "# Creating a DataFrame with a single column (Series)\n",
    "dataframe_data = pd.DataFrame({'Numbers': [1, 2, 3, 4]})\n",
    "\n",
    "# Printing the Series and DataFrame\n",
    "print(\"Series:\")\n",
    "print(series_data)\n",
    "\n",
    "print(\"\\nDataFrame:\")\n",
    "print(dataframe_data)"
   ]
  },
  {
   "cell_type": "markdown",
   "id": "10718676-db68-48a1-90b6-849afedcd6ec",
   "metadata": {},
   "source": [
    "### 5. What are some common functions you can use to manipulate data in a Pandas DataFrame? Can you give an example of when you might use one of these functions? "
   ]
  },
  {
   "cell_type": "markdown",
   "id": "005a9cc3-0912-4163-9887-e472cf7543f0",
   "metadata": {},
   "source": [
    "Pandas provides a variety of functions to manipulate data in a DataFrame. Here are some common ones:\n",
    "\n",
    "1. **head() and tail():**\n",
    "   - `head(n)` returns the first n rows of the DataFrame.\n",
    "   - `tail(n)` returns the last n rows of the DataFrame.\n",
    "\n",
    "   ```python\n",
    "   # Example\n",
    "   df.head(3)  # Returns the first 3 rows of the DataFrame\n",
    "   ```\n",
    "\n",
    "2. **describe():**\n",
    "   - `describe()` provides summary statistics of the numerical columns in the DataFrame.\n",
    "\n",
    "   ```python\n",
    "   # Example\n",
    "   df.describe()\n",
    "   ```\n",
    "\n",
    "3. **shape:**\n",
    "   - `shape` returns a tuple representing the dimensions of the DataFrame (rows, columns).\n",
    "\n",
    "   ```python\n",
    "   # Example\n",
    "   df.shape  # Returns the number of rows and columns\n",
    "   ```\n",
    "\n",
    "4. **info():**\n",
    "   - `info()` provides a concise summary of the DataFrame, including data types and non-null values.\n",
    "\n",
    "   ```python\n",
    "   # Example\n",
    "   df.info()\n",
    "   ```\n",
    "\n",
    "5. **loc and iloc:**\n",
    "   - `loc` is label-based indexing and `iloc` is integer-location based indexing.\n",
    "\n",
    "   ```python\n",
    "   # Example\n",
    "   df.loc[0, 'ColumnName']  # Access a specific element by label\n",
    "   df.iloc[0, 1]  # Access a specific element by position\n",
    "   ```\n",
    "\n",
    "6. **set_index() and reset_index():**\n",
    "   - `set_index('column_name')` sets a column as the index.\n",
    "   - `reset_index()` resets the index, converting it to default integer index.\n",
    "\n",
    "   ```python\n",
    "   # Example\n",
    "   df.set_index('ColumnName')  # Set 'ColumnName' as the index\n",
    "   df.reset_index()  # Reset the index to default\n",
    "   ```\n",
    "\n",
    "7. **drop():**\n",
    "   - `drop(labels, axis)` removes specified labels from rows or columns.\n",
    "\n",
    "   ```python\n",
    "   # Example\n",
    "   df.drop('ColumnName', axis=1)  # Drop the 'ColumnName' column\n",
    "   ```\n",
    "\n",
    "These are just a few examples, and there are many more functions available in Pandas for data manipulation. Depending on your specific needs, you might use different functions to clean, filter, and analyze your data in a DataFrame."
   ]
  },
  {
   "cell_type": "markdown",
   "id": "0e8f6e75-6594-4e63-ac9e-50c9ac71f90d",
   "metadata": {},
   "source": [
    "### 6. Which of the following is mutable in nature Series, DataFrame, Panel?"
   ]
  },
  {
   "cell_type": "markdown",
   "id": "8d420a0d-a85e-47b6-a054-115c2e5d9a4c",
   "metadata": {},
   "source": [
    "In Pandas, both `Series` and `DataFrame` are mutable, meaning you can modify their contents after creation.\n",
    "\n",
    "- **Series:** You can change the values of elements in a Series after it has been created.\n",
    "\n",
    "  ```python\n",
    "  import pandas as pd\n",
    "\n",
    "  my_series = pd.Series([1, 2, 3, 4])\n",
    "  my_series[2] = 99  # Modifying the value at index 2\n",
    "  ```\n",
    "\n",
    "- **DataFrame:** You can modify the values in the cells, add or remove columns, and perform various other operations on a DataFrame.\n",
    "\n",
    "  ```python\n",
    "  import pandas as pd\n",
    "\n",
    "  data = {'Name': ['Alice', 'Bob', 'Claire'],\n",
    "          'Age': [25, 30, 27],\n",
    "          'Gender': ['Female', 'Male', 'Female']}\n",
    "\n",
    "  my_dataframe = pd.DataFrame(data)\n",
    "\n",
    "  my_dataframe['Age'] = [26, 31, 28]  # Modifying values in the 'Age' column\n",
    "  ```\n",
    "\n",
    "As for `Panel`, it was a three-dimensional data structure in older versions of Pandas, but it has been deprecated in recent versions in favor of using `MultiIndex` DataFrames. If you are using a more recent version of Pandas, you might not encounter `Panel` frequently."
   ]
  },
  {
   "cell_type": "markdown",
   "id": "bbff1e45-175b-4d55-ad2d-5ef36547e23f",
   "metadata": {},
   "source": [
    "### 7. Create a DataFrame using multiple Series. Explain with an example."
   ]
  },
  {
   "cell_type": "code",
   "execution_count": 6,
   "id": "bb4ac1a2-bc2c-4880-8ad7-c523100a4d3c",
   "metadata": {},
   "outputs": [
    {
     "name": "stdout",
     "output_type": "stream",
     "text": [
      "     Name  Age  Gender\n",
      "0   Alice   25  Female\n",
      "1     Bob   30    Male\n",
      "2  Claire   27  Female\n"
     ]
    }
   ],
   "source": [
    "import pandas as pd\n",
    "\n",
    "# Creating multiple Series\n",
    "name_series = pd.Series(['Alice', 'Bob', 'Claire'], name='Name')\n",
    "age_series = pd.Series([25, 30, 27], name='Age')\n",
    "gender_series = pd.Series(['Female', 'Male', 'Female'], name='Gender')\n",
    "\n",
    "# Creating a DataFrame using the Series\n",
    "my_dataframe = pd.DataFrame({'Name': name_series, 'Age': age_series, 'Gender': gender_series})\n",
    "\n",
    "# Printing the DataFrame\n",
    "print(my_dataframe)"
   ]
  },
  {
   "cell_type": "code",
   "execution_count": null,
   "id": "2c428bda-508b-4313-9e23-36adb34fa6dc",
   "metadata": {},
   "outputs": [],
   "source": []
  }
 ],
 "metadata": {
  "kernelspec": {
   "display_name": "Python 3 (ipykernel)",
   "language": "python",
   "name": "python3"
  },
  "language_info": {
   "codemirror_mode": {
    "name": "ipython",
    "version": 3
   },
   "file_extension": ".py",
   "mimetype": "text/x-python",
   "name": "python",
   "nbconvert_exporter": "python",
   "pygments_lexer": "ipython3",
   "version": "3.10.8"
  }
 },
 "nbformat": 4,
 "nbformat_minor": 5
}
