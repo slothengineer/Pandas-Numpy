{
 "cells": [
  {
   "cell_type": "markdown",
   "id": "7807252e-b4b1-499a-80cd-897188ee020f",
   "metadata": {},
   "source": [
    "# Pandas Advance"
   ]
  },
  {
   "cell_type": "markdown",
   "id": "c774d2c1-5908-4534-bacf-a8eb5d2b30d8",
   "metadata": {},
   "source": [
    "### 1. List any five functions of the pandas library with execution."
   ]
  },
  {
   "cell_type": "markdown",
   "id": "ea9fb4a4-0d6b-4e5b-9581-ec57cb12eec6",
   "metadata": {},
   "source": [
    "1. **read_csv():**\n",
    "   - Reads a comma-separated values (CSV) file into a DataFrame.\n",
    "\n",
    "   ```python\n",
    "   import pandas as pd\n",
    "\n",
    "   # Assuming you have a CSV file named 'example.csv'\n",
    "   df = pd.read_csv('example.csv')\n",
    "\n",
    "   # Displaying the DataFrame\n",
    "   print(df)\n",
    "   ```\n",
    "\n",
    "2. **head():**\n",
    "   - Returns the first n rows of the DataFrame.\n",
    "\n",
    "   ```python\n",
    "   # Assuming you have a DataFrame named 'df'\n",
    "   first_5_rows = df.head(5)\n",
    "\n",
    "   # Displaying the first 5 rows\n",
    "   print(first_5_rows)\n",
    "   ```\n",
    "\n",
    "3. **groupby():**\n",
    "   - Groups DataFrame using a mapper or by a Series of columns and applies a function to each group.\n",
    "\n",
    "   ```python\n",
    "   # Assuming you have a DataFrame named 'df' with a 'Category' column\n",
    "   grouped_data = df.groupby('Category').mean()\n",
    "\n",
    "   # Displaying the mean values for each category\n",
    "   print(grouped_data)\n",
    "   ```\n",
    "\n",
    "4. **plot():**\n",
    "   - Plot data.\n",
    "\n",
    "   ```python\n",
    "   # Assuming you have a DataFrame named 'df' with numerical columns\n",
    "   df.plot(kind='bar', x='Category', y='Value')\n",
    "\n",
    "   # Displaying the plot\n",
    "   plt.show()\n",
    "   ```\n",
    "\n",
    "5. **dropna():**\n",
    "   - Removes missing values from a DataFrame.\n",
    "\n",
    "   ```python\n",
    "   # Assuming you have a DataFrame named 'df' with missing values\n",
    "   df_no_missing_values = df.dropna()\n",
    "\n",
    "   # Displaying the DataFrame without missing values\n",
    "   print(df_no_missing_values)\n",
    "   ```\n",
    "\n",
    "These examples showcase some commonly used functions in pandas for reading data, exploring data, grouping data, plotting, and handling missing values."
   ]
  },
  {
   "cell_type": "markdown",
   "id": "482b35ea-47eb-4b02-a6a5-cd77d08da338",
   "metadata": {},
   "source": [
    "### 2. Given a Pandas DataFrame df with columns 'A', 'B', and 'C', write a Python function to re-index the DataFrame with a new index that starts from 1 and increments by 2 for each row."
   ]
  },
  {
   "cell_type": "code",
   "execution_count": 21,
   "id": "58050922-7fea-4c5a-b2dc-a6bb707c65a4",
   "metadata": {},
   "outputs": [
    {
     "name": "stdout",
     "output_type": "stream",
     "text": [
      "   A  B  C\n",
      "1  1  4  7\n",
      "3  2  5  8\n",
      "5  3  6  9\n"
     ]
    }
   ],
   "source": [
    "import pandas as pd\n",
    "\n",
    "\n",
    "def reindex_with_custom_index(df):\n",
    "    # Create a new index starting from 1 and incrementing by 2\n",
    "    new_index = range(1, 2 * len(df) + 1, 2)\n",
    "\n",
    "    # Set the new index to the DataFrame\n",
    "    df_reindexed = df.set_index(pd.Index(new_index))\n",
    "\n",
    "    return df_reindexed\n",
    "\n",
    "# Example usage:\n",
    "# Assuming df is your original DataFrame with columns 'A', 'B', and 'C'\n",
    "df = pd.DataFrame({'A': [1, 2, 3], 'B': [4, 5, 6], 'C': [7, 8, 9]})\n",
    "df_reindexed = reindex_with_custom_index(df)\n",
    "print(df_reindexed)"
   ]
  },
  {
   "cell_type": "markdown",
   "id": "4ebb49d5-ba9d-4ab4-8e31-73261c876a92",
   "metadata": {},
   "source": [
    "### 3. You have a Pandas DataFrame df with a column named 'Values'. Write a Python function that iterates over the DataFrame and calculates the sum of the first three values in the 'Values' column. The function should print the sum to the console. "
   ]
  },
  {
   "cell_type": "code",
   "execution_count": 22,
   "id": "32bb8d88-255c-479b-987e-4b46deacd7a1",
   "metadata": {},
   "outputs": [
    {
     "name": "stdout",
     "output_type": "stream",
     "text": [
      "Sum of the first three values: 47\n"
     ]
    }
   ],
   "source": [
    "import pandas as pd\n",
    "\n",
    "def calculate_sum_of_first_three_values(df):\n",
    "    # Check if 'Values' column exists in the DataFrame\n",
    "    if 'Values' in df.columns:\n",
    "        # Extract the first three values from the 'Values' column\n",
    "        first_three_values = df['Values'].head(3)\n",
    "\n",
    "        # Calculate the sum of the first three values\n",
    "        sum_of_first_three_values = first_three_values.sum()\n",
    "\n",
    "        # Print the sum to the console\n",
    "        print(\"Sum of the first three values:\", sum_of_first_three_values)\n",
    "    else:\n",
    "        print(\"Column 'Values' not found in the DataFrame.\")\n",
    "\n",
    "\n",
    "data = {'Values': [11, 14, 22, 24, 29, 31]}\n",
    "df = pd.DataFrame(data)\n",
    "calculate_sum_of_first_three_values(df)"
   ]
  },
  {
   "cell_type": "markdown",
   "id": "9b05aeb4-f358-4c51-8319-9f0126b8d261",
   "metadata": {},
   "source": [
    "### 4. Given a Pandas DataFrame df with a column 'Text', write a Python function to create a new column 'Word_Count' that contains the number of words in each row of the 'Text' column."
   ]
  },
  {
   "cell_type": "code",
   "execution_count": 23,
   "id": "5bda49b7-a658-44ab-9af4-eb62f8fcd58a",
   "metadata": {},
   "outputs": [
    {
     "name": "stdout",
     "output_type": "stream",
     "text": [
      "                                 Text  Word_Count\n",
      "0              My name is james bond.           5\n",
      "1  I am thriller specialist in world.           6\n",
      "2                     only james bond           3\n"
     ]
    }
   ],
   "source": [
    "import pandas as pd\n",
    "\n",
    "def add_word_count_column(df):\n",
    "    # Function to count the number of words in a text\n",
    "    def count_words(text):\n",
    "        words = text.split()\n",
    "        return len(words)\n",
    "\n",
    "    # Apply the count_words function to each row of the 'Text' column\n",
    "    df['Word_Count'] = df['Text'].apply(count_words)\n",
    "\n",
    "    \n",
    "data = {'Text': ['My name is james bond.',\n",
    "                 'I am thriller specialist in world.',\n",
    "                 'only james bond']}\n",
    "df = pd.DataFrame(data)\n",
    "\n",
    "add_word_count_column(df)\n",
    "print(df)"
   ]
  },
  {
   "cell_type": "markdown",
   "id": "de88adc8-157a-4a92-ba43-f36e806a84f3",
   "metadata": {},
   "source": [
    "### 5. How are DataFrame.size() and DataFrame.shape() different? "
   ]
  },
  {
   "cell_type": "markdown",
   "id": "60b35dc8-c6c1-4392-8636-82a5f70315e2",
   "metadata": {},
   "source": [
    "There's a subtle difference between `DataFrame.size` and `DataFrame.shape` in pandas:\n",
    "\n",
    "1. **DataFrame.size:**\n",
    "   - `DataFrame.size` returns the total number of elements in the DataFrame, which is equal to the product of the number of rows and columns."
   ]
  },
  {
   "cell_type": "code",
   "execution_count": 24,
   "id": "bde7c355-8308-471c-ae42-492e9948550e",
   "metadata": {},
   "outputs": [
    {
     "name": "stdout",
     "output_type": "stream",
     "text": [
      "6\n"
     ]
    }
   ],
   "source": [
    "import pandas as pd\n",
    "\n",
    "df = pd.DataFrame({'A': [1, 2, 3], 'B': [4, 5, 6]})\n",
    "size = df.size\n",
    "print(size)"
   ]
  },
  {
   "cell_type": "markdown",
   "id": "26cf0dbb-69ad-453f-8e51-0e26768cee30",
   "metadata": {},
   "source": [
    "In this example, the DataFrame has 2 columns and 3 rows, so the size is 2 (columns) * 3 (rows) = 6."
   ]
  },
  {
   "cell_type": "markdown",
   "id": "51a53353-1595-4e3c-8ec9-abb7a7275eca",
   "metadata": {},
   "source": [
    "2. **DataFrame.shape:**\n",
    "   - `DataFrame.shape` returns a tuple representing the dimensions of the DataFrame, where the first element is the number of rows and the second element is the number of columns."
   ]
  },
  {
   "cell_type": "code",
   "execution_count": 25,
   "id": "821d5fd9-5a47-445d-add1-99bdbd952b17",
   "metadata": {},
   "outputs": [
    {
     "name": "stdout",
     "output_type": "stream",
     "text": [
      "(3, 2)\n"
     ]
    }
   ],
   "source": [
    "import pandas as pd\n",
    "\n",
    "df = pd.DataFrame({'A': [1, 2, 3], 'B': [4, 5, 6]})\n",
    "shape = df.shape\n",
    "print(shape)"
   ]
  },
  {
   "cell_type": "markdown",
   "id": "0e69558b-fd0a-4440-bea5-a302f525401e",
   "metadata": {},
   "source": [
    "In this example, the DataFrame has 3 rows and 2 columns, so the shape is (3, 2).\n",
    "\n",
    "In summary, `DataFrame.size` gives you the total number of elements, while `DataFrame.shape` provides the dimensions as a tuple (number of rows, number of columns)."
   ]
  },
  {
   "cell_type": "markdown",
   "id": "999de796-1e84-4ebe-a514-c25b2de4f403",
   "metadata": {},
   "source": [
    "### 6. Which function of pandas do we use to read an excel file?"
   ]
  },
  {
   "cell_type": "markdown",
   "id": "7146bf5a-be03-422a-8a55-c9dabe14a37a",
   "metadata": {},
   "source": [
    "To read an Excel file in pandas, you can use the `pd.read_excel()` function. Here's an example:\n",
    "\n",
    "```python\n",
    "import pandas as pd\n",
    "\n",
    "# Assuming you have an Excel file named 'example.xlsx' in the same directory\n",
    "df = pd.read_excel('example.xlsx')\n",
    "\n",
    "# Displaying the DataFrame\n",
    "print(df)\n",
    "```\n",
    "\n",
    "In this example, `pd.read_excel('example.xlsx')` reads the data from the Excel file 'example.xlsx' and creates a DataFrame (`df`) from it. You can replace 'example.xlsx' with the actual path to your Excel file. Additionally, you can pass other optional parameters to `read_excel()` to customize the reading process, such as specifying sheet names, skipping rows, etc."
   ]
  },
  {
   "cell_type": "markdown",
   "id": "f8a4357e-0375-42d3-a1db-6fc649de5469",
   "metadata": {},
   "source": [
    "### 7. You have a Pandas DataFrame df that contains a column named 'Email' that contains email addresses in the format 'username@domain.com'. Write a Python function that creates a new column 'Username' in df that contains only the username part of each email address."
   ]
  },
  {
   "cell_type": "code",
   "execution_count": 26,
   "id": "cb802d89-f6de-4d02-bcf6-4c850c70398d",
   "metadata": {},
   "outputs": [
    {
     "name": "stdout",
     "output_type": "stream",
     "text": [
      "               Email\n",
      "0  user1@example.com\n",
      "1  user2@example.com\n",
      "2  user3@example.com\n"
     ]
    }
   ],
   "source": [
    "import pandas as pd\n",
    "\n",
    "data = {'Email': ['user1@example.com', 'user2@example.com', 'user3@example.com']}\n",
    "df = pd.DataFrame(data)\n",
    "print(df)"
   ]
  },
  {
   "cell_type": "code",
   "execution_count": 27,
   "id": "38b37255-c3d8-4ed0-b5cd-8ac4e7ce27d2",
   "metadata": {},
   "outputs": [
    {
     "name": "stdout",
     "output_type": "stream",
     "text": [
      "               Email Username\n",
      "0  user1@example.com    user1\n",
      "1  user2@example.com    user2\n",
      "2  user3@example.com    user3\n"
     ]
    }
   ],
   "source": [
    "# Function to extract the username and add a 'Username' column\n",
    "def extract_username(df):\n",
    "    def get_username(email):\n",
    "        return email.split('@')[0]\n",
    "\n",
    "    df['Username'] = df['Email'].apply(get_username)\n",
    "\n",
    "\n",
    "extract_username(df)\n",
    "print(df)"
   ]
  },
  {
   "cell_type": "markdown",
   "id": "20f82c13-136f-4c2d-9be0-6aac1d0ba013",
   "metadata": {},
   "source": [
    "### 8. You have a Pandas DataFrame df with columns 'A', 'B', and 'C'. Write a Python function that selects all rows where the value in column 'A' is greater than 5 and the value in column 'B' is less than 10. The function should return a new DataFrame that contains only the selected rows."
   ]
  },
  {
   "cell_type": "code",
   "execution_count": 28,
   "id": "287acd29-8c8a-4a38-99f6-c5a995e673a1",
   "metadata": {},
   "outputs": [],
   "source": [
    "import pandas as pd\n",
    "\n",
    "def select_rows(df):\n",
    "    # Select rows where 'A' is greater than 5 and 'B' is less than 10\n",
    "    selected_rows = df[(df['A'] > 5) & (df['B'] < 10)]\n",
    "\n",
    "    return selected_rows"
   ]
  },
  {
   "cell_type": "code",
   "execution_count": 29,
   "id": "4f4afd39-d83a-4c47-b8c4-da2996ab1bf9",
   "metadata": {},
   "outputs": [
    {
     "name": "stdout",
     "output_type": "stream",
     "text": [
      "Original DataFrame:\n",
      "   A   B   C\n",
      "0  3   9  15\n",
      "1  7   4  20\n",
      "2  2   8  10\n",
      "3  8   5  25\n",
      "4  6  12  18\n",
      "\n",
      "Selected Rows:\n",
      "   A  B   C\n",
      "1  7  4  20\n",
      "3  8  5  25\n"
     ]
    }
   ],
   "source": [
    "data = {'A': [3, 7, 2, 8, 6],\n",
    "        'B': [9, 4, 8, 5, 12],\n",
    "        'C': [15, 20, 10, 25, 18]}\n",
    "\n",
    "df = pd.DataFrame(data)\n",
    "\n",
    "selected_df = select_rows(df)\n",
    "print(\"Original DataFrame:\")\n",
    "print(df)\n",
    "print(\"\\nSelected Rows:\")\n",
    "print(selected_df)"
   ]
  },
  {
   "cell_type": "markdown",
   "id": "4f443c3f-7789-4399-bea5-d4ae62742d01",
   "metadata": {},
   "source": [
    "### 9. Given a Pandas DataFrame df with a column 'Values', write a Python function to calculate the mean, median, and standard deviation of the values in the 'Values' column."
   ]
  },
  {
   "cell_type": "code",
   "execution_count": 32,
   "id": "f251025f-d4ed-498f-afa1-bc66e2dfc25b",
   "metadata": {},
   "outputs": [
    {
     "name": "stdout",
     "output_type": "stream",
     "text": [
      "Mean: 35.0\n",
      "Median: 35.0\n",
      "Standard Deviation: 18.708286933869708\n"
     ]
    }
   ],
   "source": [
    "def calculate_stats(df):\n",
    "\n",
    "    values_column = df['Values']\n",
    "\n",
    "    # Calculate mean, median, and standard deviation\n",
    "    mean_value = values_column.mean()\n",
    "    median_value = values_column.median()\n",
    "    std_deviation = values_column.std()\n",
    "\n",
    "    # Print the results\n",
    "    print(f\"Mean: {mean_value}\")\n",
    "    print(f\"Median: {median_value}\")\n",
    "    print(f\"Standard Deviation: {std_deviation}\")\n",
    "\n",
    "data = {'Values': [10, 20, 30, 40, 50, 60]}\n",
    "df = pd.DataFrame(data)\n",
    "calculate_stats(df)"
   ]
  },
  {
   "cell_type": "markdown",
   "id": "aad84c4e-d94d-400c-b5b6-700d22eb340a",
   "metadata": {},
   "source": [
    "### 10. Given a Pandas DataFrame df with a column 'Sales' and a column 'Date', write a Python function to create a new column 'MovingAverage' that contains the moving average of the sales for the past 7 days for each row in the DataFrame. The moving average should be calculated using a window of size 7 and should include the current day."
   ]
  },
  {
   "cell_type": "code",
   "execution_count": 33,
   "id": "e457109e-6a13-4c70-ad4d-8f8a303655d4",
   "metadata": {},
   "outputs": [
    {
     "name": "stdout",
     "output_type": "stream",
     "text": [
      "         Date  Sales  MovingAverage\n",
      "0  2023-01-01     99      99.000000\n",
      "1  2023-01-02     62      80.500000\n",
      "2  2023-01-03     87      82.666667\n",
      "3  2023-01-04     78      81.500000\n",
      "4  2023-01-05     98      84.800000\n",
      "5  2023-01-06     94      86.333333\n",
      "6  2023-01-07     96      87.714286\n",
      "7  2023-01-08     88      86.142857\n",
      "8  2023-01-09     61      86.000000\n",
      "9  2023-01-10     84      85.571429\n",
      "10 2023-01-11     75      85.142857\n",
      "11 2023-01-12     86      83.428571\n",
      "12 2023-01-13     78      81.142857\n",
      "13 2023-01-14     64      76.571429\n",
      "14 2023-01-15     66      73.428571\n"
     ]
    }
   ],
   "source": [
    "import pandas as pd\n",
    "import numpy as np\n",
    "\n",
    "date_rng = pd.date_range(start='2023-01-01', end='2023-01-15', freq='D')\n",
    "sales_data = np.random.randint(50, 100, size=(15,))\n",
    "df = pd.DataFrame({'Date': date_rng, 'Sales': sales_data})\n",
    "\n",
    "# Function to calculate moving average\n",
    "def calculate_moving_average(df):\n",
    "    df['MovingAverage'] = df['Sales'].rolling(window=7, min_periods=1).mean()\n",
    "\n",
    "# Example usage\n",
    "calculate_moving_average(df)\n",
    "print(df)"
   ]
  },
  {
   "cell_type": "markdown",
   "id": "2c8b8035-f000-45d9-9750-59e60ec42713",
   "metadata": {},
   "source": [
    "### 11. You have a Pandas DataFrame df with a column 'Date'. Write a Python function that creates a new column 'Weekday' in the DataFrame. The 'Weekday' column should contain the weekday name (e.g. Monday, Tuesday) corresponding to each date in the 'Date' column."
   ]
  },
  {
   "cell_type": "code",
   "execution_count": 35,
   "id": "82eec1b3-5569-455a-880b-c27516750f65",
   "metadata": {},
   "outputs": [
    {
     "name": "stdout",
     "output_type": "stream",
     "text": [
      "        Date    Weekday\n",
      "0 2023-01-01     Sunday\n",
      "1 2023-01-02     Monday\n",
      "2 2023-01-03    Tuesday\n",
      "3 2023-01-04  Wednesday\n",
      "4 2023-01-05   Thursday\n"
     ]
    }
   ],
   "source": [
    "date_rng = pd.date_range(start='2023-01-01', end='2023-01-05', freq='D')\n",
    "df = pd.DataFrame({'Date': date_rng})\n",
    "\n",
    "# Function to add 'Weekday' column\n",
    "def add_weekday_column(df):\n",
    "    df['Weekday'] = df['Date'].dt.day_name()\n",
    "\n",
    "add_weekday_column(df)\n",
    "print(df)"
   ]
  },
  {
   "cell_type": "markdown",
   "id": "14c76f2e-7be8-47c4-9cbb-105f05dd46da",
   "metadata": {},
   "source": [
    "### 12. Given a Pandas DataFrame df with a column 'Date' that contains timestamps, write a Python function to select all rows where the date is between '2023-01-01' and '2023-01-31'."
   ]
  },
  {
   "cell_type": "code",
   "execution_count": 36,
   "id": "805c0ee2-ac32-4df5-b473-9b84a416f7f8",
   "metadata": {},
   "outputs": [
    {
     "name": "stdout",
     "output_type": "stream",
     "text": [
      "         Date  Values\n",
      "0  2023-01-01       0\n",
      "1  2023-01-02       1\n",
      "2  2023-01-03       2\n",
      "3  2023-01-04       3\n",
      "4  2023-01-05       4\n",
      "5  2023-01-06       5\n",
      "6  2023-01-07       6\n",
      "7  2023-01-08       7\n",
      "8  2023-01-09       8\n",
      "9  2023-01-10       9\n",
      "10 2023-01-11      10\n",
      "11 2023-01-12      11\n",
      "12 2023-01-13      12\n",
      "13 2023-01-14      13\n",
      "14 2023-01-15      14\n",
      "15 2023-01-16      15\n",
      "16 2023-01-17      16\n",
      "17 2023-01-18      17\n",
      "18 2023-01-19      18\n",
      "19 2023-01-20      19\n",
      "20 2023-01-21      20\n",
      "21 2023-01-22      21\n",
      "22 2023-01-23      22\n",
      "23 2023-01-24      23\n",
      "24 2023-01-25      24\n",
      "25 2023-01-26      25\n",
      "26 2023-01-27      26\n",
      "27 2023-01-28      27\n",
      "28 2023-01-29      28\n",
      "29 2023-01-30      29\n",
      "30 2023-01-31      30\n"
     ]
    }
   ],
   "source": [
    "date_rng = pd.date_range(start='2023-01-01', end='2023-02-10', freq='D')\n",
    "df = pd.DataFrame({'Date': date_rng, 'Values': range(len(date_rng))})\n",
    "\n",
    "# Function to select rows by date range\n",
    "def select_rows_by_date_range(df):\n",
    "    start_date = '2023-01-01'\n",
    "    end_date = '2023-01-31'\n",
    "\n",
    "    selected_rows = df[(df['Date'] >= start_date) & (df['Date'] <= end_date)]\n",
    "\n",
    "    return selected_rows\n",
    "\n",
    "selected_df = select_rows_by_date_range(df)\n",
    "print(selected_df)"
   ]
  },
  {
   "cell_type": "markdown",
   "id": "0ea5467e-c3c3-46e9-8769-09327dd896d8",
   "metadata": {},
   "source": [
    "### 13. To use the basic functions of pandas, what is the first and foremost necessary library that needs to be imported?"
   ]
  },
  {
   "cell_type": "markdown",
   "id": "ae4728fc-9cc2-4095-a3a3-07bfc5787bf4",
   "metadata": {},
   "source": [
    "To use the basic functions of pandas, the first and foremost library that needs to be imported is `pandas` itself. You can import it using the following line:\n",
    "\n",
    "```python\n",
    "import pandas as pd\n",
    "```\n",
    "\n",
    "The `as pd` alias is a common convention, making it easier to reference pandas functions throughout your code by using the shorthand `pd`. Once you have imported pandas, you can use its functions to create and manipulate DataFrames, perform data analysis, and work with various data structures and operations."
   ]
  },
  {
   "cell_type": "code",
   "execution_count": null,
   "id": "710b44a8-2e14-46e0-acf1-a0eb5f88f3e6",
   "metadata": {},
   "outputs": [],
   "source": []
  }
 ],
 "metadata": {
  "kernelspec": {
   "display_name": "Python 3 (ipykernel)",
   "language": "python",
   "name": "python3"
  },
  "language_info": {
   "codemirror_mode": {
    "name": "ipython",
    "version": 3
   },
   "file_extension": ".py",
   "mimetype": "text/x-python",
   "name": "python",
   "nbconvert_exporter": "python",
   "pygments_lexer": "ipython3",
   "version": "3.10.8"
  }
 },
 "nbformat": 4,
 "nbformat_minor": 5
}
